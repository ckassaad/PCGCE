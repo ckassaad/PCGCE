{
 "cells": [
  {
   "cell_type": "markdown",
   "metadata": {},
   "source": [
    "# Bootstrap"
   ]
  },
  {
   "cell_type": "markdown",
   "metadata": {},
   "source": [
    "## Import and settings\n",
    "In this example, we need to import `numpy`, `pandas`, and `graphviz` in addition to `lingam`."
   ]
  },
  {
   "cell_type": "code",
   "execution_count": 1,
   "metadata": {
    "ExecuteTime": {
     "end_time": "2019-12-12T06:27:35.433982Z",
     "start_time": "2019-12-12T06:27:33.827960Z"
    }
   },
   "outputs": [
    {
     "name": "stdout",
     "output_type": "stream",
     "text": [
      "['1.16.2', '0.24.2', '0.11.1', '1.3.1']\n"
     ]
    }
   ],
   "source": [
    "import numpy as np\n",
    "import pandas as pd\n",
    "import graphviz\n",
    "import lingam\n",
    "from lingam.utils import print_causal_directions, print_dagc, make_dot\n",
    "\n",
    "print([np.__version__, pd.__version__, graphviz.__version__, lingam.__version__])\n",
    "\n",
    "np.set_printoptions(precision=3, suppress=True)\n",
    "np.random.seed(0)"
   ]
  },
  {
   "cell_type": "markdown",
   "metadata": {},
   "source": [
    "## Test data\n",
    "We create test data consisting of 6 variables."
   ]
  },
  {
   "cell_type": "code",
   "execution_count": 2,
   "metadata": {
    "ExecuteTime": {
     "end_time": "2019-12-12T06:27:35.485845Z",
     "start_time": "2019-12-12T06:27:35.448942Z"
    }
   },
   "outputs": [
    {
     "data": {
      "text/html": [
       "<div>\n",
       "<style scoped>\n",
       "    .dataframe tbody tr th:only-of-type {\n",
       "        vertical-align: middle;\n",
       "    }\n",
       "\n",
       "    .dataframe tbody tr th {\n",
       "        vertical-align: top;\n",
       "    }\n",
       "\n",
       "    .dataframe thead th {\n",
       "        text-align: right;\n",
       "    }\n",
       "</style>\n",
       "<table border=\"1\" class=\"dataframe\">\n",
       "  <thead>\n",
       "    <tr style=\"text-align: right;\">\n",
       "      <th></th>\n",
       "      <th>x0</th>\n",
       "      <th>x1</th>\n",
       "      <th>x2</th>\n",
       "      <th>x3</th>\n",
       "      <th>x4</th>\n",
       "      <th>x5</th>\n",
       "    </tr>\n",
       "  </thead>\n",
       "  <tbody>\n",
       "    <tr>\n",
       "      <th>0</th>\n",
       "      <td>2.239321</td>\n",
       "      <td>15.340724</td>\n",
       "      <td>4.104399</td>\n",
       "      <td>0.548814</td>\n",
       "      <td>14.176947</td>\n",
       "      <td>9.249925</td>\n",
       "    </tr>\n",
       "    <tr>\n",
       "      <th>1</th>\n",
       "      <td>2.155632</td>\n",
       "      <td>16.630954</td>\n",
       "      <td>4.767220</td>\n",
       "      <td>0.715189</td>\n",
       "      <td>12.775458</td>\n",
       "      <td>9.189045</td>\n",
       "    </tr>\n",
       "    <tr>\n",
       "      <th>2</th>\n",
       "      <td>2.284116</td>\n",
       "      <td>15.910406</td>\n",
       "      <td>4.139736</td>\n",
       "      <td>0.602763</td>\n",
       "      <td>14.201794</td>\n",
       "      <td>9.273880</td>\n",
       "    </tr>\n",
       "    <tr>\n",
       "      <th>3</th>\n",
       "      <td>2.343420</td>\n",
       "      <td>14.921457</td>\n",
       "      <td>3.519820</td>\n",
       "      <td>0.544883</td>\n",
       "      <td>15.580067</td>\n",
       "      <td>9.723392</td>\n",
       "    </tr>\n",
       "    <tr>\n",
       "      <th>4</th>\n",
       "      <td>1.314940</td>\n",
       "      <td>11.055176</td>\n",
       "      <td>3.146972</td>\n",
       "      <td>0.423655</td>\n",
       "      <td>7.604743</td>\n",
       "      <td>5.312976</td>\n",
       "    </tr>\n",
       "  </tbody>\n",
       "</table>\n",
       "</div>"
      ],
      "text/plain": [
       "         x0         x1        x2        x3         x4        x5\n",
       "0  2.239321  15.340724  4.104399  0.548814  14.176947  9.249925\n",
       "1  2.155632  16.630954  4.767220  0.715189  12.775458  9.189045\n",
       "2  2.284116  15.910406  4.139736  0.602763  14.201794  9.273880\n",
       "3  2.343420  14.921457  3.519820  0.544883  15.580067  9.723392\n",
       "4  1.314940  11.055176  3.146972  0.423655   7.604743  5.312976"
      ]
     },
     "execution_count": 2,
     "metadata": {},
     "output_type": "execute_result"
    }
   ],
   "source": [
    "x3 = np.random.uniform(size=1000)\n",
    "x0 = 3.0*x3 + np.random.uniform(size=1000)\n",
    "x2 = 6.0*x3 + np.random.uniform(size=1000)\n",
    "x1 = 3.0*x0 + 2.0*x2 + np.random.uniform(size=1000)\n",
    "x5 = 4.0*x0 + np.random.uniform(size=1000)\n",
    "x4 = 8.0*x0 - 1.0*x2 + np.random.uniform(size=1000)\n",
    "X = pd.DataFrame(np.array([x0, x1, x2, x3, x4, x5]).T ,columns=['x0', 'x1', 'x2', 'x3', 'x4', 'x5'])\n",
    "X.head()"
   ]
  },
  {
   "cell_type": "code",
   "execution_count": 3,
   "metadata": {
    "ExecuteTime": {
     "end_time": "2019-12-12T06:27:35.815718Z",
     "start_time": "2019-12-12T06:27:35.488835Z"
    }
   },
   "outputs": [
    {
     "data": {
      "image/svg+xml": [
       "<?xml version=\"1.0\" encoding=\"UTF-8\" standalone=\"no\"?>\r\n",
       "<!DOCTYPE svg PUBLIC \"-//W3C//DTD SVG 1.1//EN\"\r\n",
       " \"http://www.w3.org/Graphics/SVG/1.1/DTD/svg11.dtd\">\r\n",
       "<!-- Generated by graphviz version 2.38.0 (20140413.2041)\r\n",
       " -->\r\n",
       "<!-- Title: %3 Pages: 1 -->\r\n",
       "<svg width=\"245pt\" height=\"218pt\"\r\n",
       " viewBox=\"0.00 0.00 245.00 218.00\" xmlns=\"http://www.w3.org/2000/svg\" xmlns:xlink=\"http://www.w3.org/1999/xlink\">\r\n",
       "<g id=\"graph0\" class=\"graph\" transform=\"scale(1 1) rotate(0) translate(4 214)\">\r\n",
       "<title>%3</title>\r\n",
       "<polygon fill=\"white\" stroke=\"none\" points=\"-4,4 -4,-214 241,-214 241,4 -4,4\"/>\r\n",
       "<!-- x0 -->\r\n",
       "<g id=\"node1\" class=\"node\"><title>x0</title>\r\n",
       "<ellipse fill=\"none\" stroke=\"black\" cx=\"150\" cy=\"-105\" rx=\"27\" ry=\"18\"/>\r\n",
       "<text text-anchor=\"middle\" x=\"150\" y=\"-101.3\" font-family=\"Times New Roman,serif\" font-size=\"14.00\">x0</text>\r\n",
       "</g>\r\n",
       "<!-- x1 -->\r\n",
       "<g id=\"node2\" class=\"node\"><title>x1</title>\r\n",
       "<ellipse fill=\"none\" stroke=\"black\" cx=\"125\" cy=\"-18\" rx=\"27\" ry=\"18\"/>\r\n",
       "<text text-anchor=\"middle\" x=\"125\" y=\"-14.3\" font-family=\"Times New Roman,serif\" font-size=\"14.00\">x1</text>\r\n",
       "</g>\r\n",
       "<!-- x0&#45;&gt;x1 -->\r\n",
       "<g id=\"edge2\" class=\"edge\"><title>x0&#45;&gt;x1</title>\r\n",
       "<path fill=\"none\" stroke=\"black\" d=\"M147.442,-86.6548C145.783,-76.931 143.308,-64.6521 140,-54 139.069,-51.0031 137.968,-47.9142 136.791,-44.8705\"/>\r\n",
       "<polygon fill=\"black\" stroke=\"black\" points=\"139.956,-43.3657 132.892,-35.4693 133.49,-46.0472 139.956,-43.3657\"/>\r\n",
       "<text text-anchor=\"middle\" x=\"155.5\" y=\"-57.8\" font-family=\"Times New Roman,serif\" font-size=\"14.00\">3.00</text>\r\n",
       "</g>\r\n",
       "<!-- x4 -->\r\n",
       "<g id=\"node5\" class=\"node\"><title>x4</title>\r\n",
       "<ellipse fill=\"none\" stroke=\"black\" cx=\"27\" cy=\"-18\" rx=\"27\" ry=\"18\"/>\r\n",
       "<text text-anchor=\"middle\" x=\"27\" y=\"-14.3\" font-family=\"Times New Roman,serif\" font-size=\"14.00\">x4</text>\r\n",
       "</g>\r\n",
       "<!-- x0&#45;&gt;x4 -->\r\n",
       "<g id=\"edge5\" class=\"edge\"><title>x0&#45;&gt;x4</title>\r\n",
       "<path fill=\"none\" stroke=\"black\" d=\"M134.544,-90.005C120.464,-77.3813 100.597,-59.916 92,-54 81.194,-46.5643 68.6395,-39.4801 57.4616,-33.6547\"/>\r\n",
       "<polygon fill=\"black\" stroke=\"black\" points=\"58.9644,-30.4924 48.4645,-29.0773 55.7902,-36.7313 58.9644,-30.4924\"/>\r\n",
       "<text text-anchor=\"middle\" x=\"121.5\" y=\"-57.8\" font-family=\"Times New Roman,serif\" font-size=\"14.00\">8.00</text>\r\n",
       "</g>\r\n",
       "<!-- x5 -->\r\n",
       "<g id=\"node6\" class=\"node\"><title>x5</title>\r\n",
       "<ellipse fill=\"none\" stroke=\"black\" cx=\"210\" cy=\"-18\" rx=\"27\" ry=\"18\"/>\r\n",
       "<text text-anchor=\"middle\" x=\"210\" y=\"-14.3\" font-family=\"Times New Roman,serif\" font-size=\"14.00\">x5</text>\r\n",
       "</g>\r\n",
       "<!-- x0&#45;&gt;x5 -->\r\n",
       "<g id=\"edge7\" class=\"edge\"><title>x0&#45;&gt;x5</title>\r\n",
       "<path fill=\"none\" stroke=\"black\" d=\"M161.005,-88.4097C169.97,-75.709 182.78,-57.5615 193.053,-43.0079\"/>\r\n",
       "<polygon fill=\"black\" stroke=\"black\" points=\"196.157,-44.6796 199.065,-34.4915 190.439,-40.6428 196.157,-44.6796\"/>\r\n",
       "<text text-anchor=\"middle\" x=\"195.5\" y=\"-57.8\" font-family=\"Times New Roman,serif\" font-size=\"14.00\">4.00</text>\r\n",
       "</g>\r\n",
       "<!-- x2 -->\r\n",
       "<g id=\"node3\" class=\"node\"><title>x2</title>\r\n",
       "<ellipse fill=\"none\" stroke=\"black\" cx=\"66\" cy=\"-105\" rx=\"27\" ry=\"18\"/>\r\n",
       "<text text-anchor=\"middle\" x=\"66\" y=\"-101.3\" font-family=\"Times New Roman,serif\" font-size=\"14.00\">x2</text>\r\n",
       "</g>\r\n",
       "<!-- x2&#45;&gt;x1 -->\r\n",
       "<g id=\"edge3\" class=\"edge\"><title>x2&#45;&gt;x1</title>\r\n",
       "<path fill=\"none\" stroke=\"black\" d=\"M62.441,-87.1561C61.1798,-76.9067 61.2665,-63.9233 67,-54 72.721,-44.0984 82.4634,-36.6692 92.347,-31.2627\"/>\r\n",
       "<polygon fill=\"black\" stroke=\"black\" points=\"93.9103,-34.3944 101.352,-26.8534 90.8319,-28.1076 93.9103,-34.3944\"/>\r\n",
       "<text text-anchor=\"middle\" x=\"79.5\" y=\"-57.8\" font-family=\"Times New Roman,serif\" font-size=\"14.00\">2.00</text>\r\n",
       "</g>\r\n",
       "<!-- x2&#45;&gt;x4 -->\r\n",
       "<g id=\"edge6\" class=\"edge\"><title>x2&#45;&gt;x4</title>\r\n",
       "<path fill=\"none\" stroke=\"black\" d=\"M43.7256,-94.7988C32.9729,-89.0846 21.1041,-80.5923 15,-69 11.0376,-61.4751 11.6861,-52.6266 14.0624,-44.4816\"/>\r\n",
       "<polygon fill=\"black\" stroke=\"black\" points=\"17.3723,-45.6237 17.6242,-35.0319 10.8221,-43.1548 17.3723,-45.6237\"/>\r\n",
       "<text text-anchor=\"middle\" x=\"29.5\" y=\"-57.8\" font-family=\"Times New Roman,serif\" font-size=\"14.00\">&#45;1.00</text>\r\n",
       "</g>\r\n",
       "<!-- x3 -->\r\n",
       "<g id=\"node4\" class=\"node\"><title>x3</title>\r\n",
       "<ellipse fill=\"none\" stroke=\"black\" cx=\"112\" cy=\"-192\" rx=\"27\" ry=\"18\"/>\r\n",
       "<text text-anchor=\"middle\" x=\"112\" y=\"-188.3\" font-family=\"Times New Roman,serif\" font-size=\"14.00\">x3</text>\r\n",
       "</g>\r\n",
       "<!-- x3&#45;&gt;x0 -->\r\n",
       "<g id=\"edge1\" class=\"edge\"><title>x3&#45;&gt;x0</title>\r\n",
       "<path fill=\"none\" stroke=\"black\" d=\"M119.327,-174.611C124.741,-162.499 132.221,-145.768 138.439,-131.86\"/>\r\n",
       "<polygon fill=\"black\" stroke=\"black\" points=\"141.81,-132.896 142.696,-122.339 135.419,-130.039 141.81,-132.896\"/>\r\n",
       "<text text-anchor=\"middle\" x=\"145.5\" y=\"-144.8\" font-family=\"Times New Roman,serif\" font-size=\"14.00\">3.00</text>\r\n",
       "</g>\r\n",
       "<!-- x3&#45;&gt;x2 -->\r\n",
       "<g id=\"edge4\" class=\"edge\"><title>x3&#45;&gt;x2</title>\r\n",
       "<path fill=\"none\" stroke=\"black\" d=\"M103.131,-174.611C96.47,-162.303 87.2279,-145.226 79.6308,-131.187\"/>\r\n",
       "<polygon fill=\"black\" stroke=\"black\" points=\"82.5237,-129.179 74.686,-122.05 76.3674,-132.511 82.5237,-129.179\"/>\r\n",
       "<text text-anchor=\"middle\" x=\"103.5\" y=\"-144.8\" font-family=\"Times New Roman,serif\" font-size=\"14.00\">6.00</text>\r\n",
       "</g>\r\n",
       "</g>\r\n",
       "</svg>\r\n"
      ],
      "text/plain": [
       "<graphviz.dot.Digraph at 0x237203e5898>"
      ]
     },
     "execution_count": 3,
     "metadata": {},
     "output_type": "execute_result"
    }
   ],
   "source": [
    "m = np.array([[0.0, 0.0, 0.0, 3.0, 0.0, 0.0],\n",
    "              [3.0, 0.0, 2.0, 0.0, 0.0, 0.0],\n",
    "              [0.0, 0.0, 0.0, 6.0, 0.0, 0.0],\n",
    "              [0.0, 0.0, 0.0, 0.0, 0.0, 0.0],\n",
    "              [8.0, 0.0,-1.0, 0.0, 0.0, 0.0],\n",
    "              [4.0, 0.0, 0.0, 0.0, 0.0, 0.0]])\n",
    "\n",
    "make_dot(m)"
   ]
  },
  {
   "cell_type": "markdown",
   "metadata": {},
   "source": [
    "## Bootstrapping\n",
    "We call `bootstrap()` method instead of `fit()`. Here, the second argument specifies the number of bootstrap sampling."
   ]
  },
  {
   "cell_type": "code",
   "execution_count": 4,
   "metadata": {
    "ExecuteTime": {
     "end_time": "2019-12-12T06:27:54.354706Z",
     "start_time": "2019-12-12T06:27:35.817714Z"
    }
   },
   "outputs": [],
   "source": [
    "model = lingam.DirectLiNGAM()\n",
    "result = model.bootstrap(X, n_sampling=100)"
   ]
  },
  {
   "cell_type": "markdown",
   "metadata": {},
   "source": [
    "## Causal Directions\n",
    "Since `BootstrapResult` object is returned, we can get the ranking of the causal directions extracted by `get_causal_direction_counts()` method. In the following sample code, `n_directions` option is limited to the causal directions of the top 8 rankings, and `min_causal_effect` option is limited to causal directions with a coefficient of 0.01 or more."
   ]
  },
  {
   "cell_type": "code",
   "execution_count": 5,
   "metadata": {
    "ExecuteTime": {
     "end_time": "2019-12-12T06:27:54.379641Z",
     "start_time": "2019-12-12T06:27:54.358698Z"
    }
   },
   "outputs": [],
   "source": [
    "cdc = result.get_causal_direction_counts(n_directions=8, min_causal_effect=0.01, split_by_causal_effect_sign=True)"
   ]
  },
  {
   "cell_type": "markdown",
   "metadata": {},
   "source": [
    "We can check the result by utility function."
   ]
  },
  {
   "cell_type": "code",
   "execution_count": 6,
   "metadata": {
    "ExecuteTime": {
     "end_time": "2019-12-12T06:27:54.392606Z",
     "start_time": "2019-12-12T06:27:54.383630Z"
    }
   },
   "outputs": [
    {
     "name": "stdout",
     "output_type": "stream",
     "text": [
      "x1 <--- x0 (b>0) (100.0%)\n",
      "x1 <--- x2 (b>0) (100.0%)\n",
      "x5 <--- x0 (b>0) (100.0%)\n",
      "x0 <--- x3 (b>0) (99.0%)\n",
      "x4 <--- x0 (b>0) (98.0%)\n",
      "x2 <--- x3 (b>0) (96.0%)\n",
      "x4 <--- x2 (b<0) (94.0%)\n",
      "x4 <--- x5 (b>0) (20.0%)\n"
     ]
    }
   ],
   "source": [
    "print_causal_directions(cdc, 100)"
   ]
  },
  {
   "cell_type": "markdown",
   "metadata": {},
   "source": [
    "## Directed Acyclic Graphs\n",
    "Also, using the `get_directed_acyclic_graph_counts()` method, we can get the ranking of the DAGs extracted. In the following sample code, `n_dags` option is limited to the dags of the top 3 rankings, and `min_causal_effect` option is limited to causal directions with a coefficient of 0.01 or more."
   ]
  },
  {
   "cell_type": "code",
   "execution_count": 7,
   "metadata": {
    "ExecuteTime": {
     "end_time": "2019-12-12T06:27:54.419534Z",
     "start_time": "2019-12-12T06:27:54.397593Z"
    }
   },
   "outputs": [],
   "source": [
    "dagc = result.get_directed_acyclic_graph_counts(n_dags=3, min_causal_effect=0.01, split_by_causal_effect_sign=True)"
   ]
  },
  {
   "cell_type": "markdown",
   "metadata": {},
   "source": [
    "We can check the result by utility function."
   ]
  },
  {
   "cell_type": "code",
   "execution_count": 8,
   "metadata": {
    "ExecuteTime": {
     "end_time": "2019-12-12T06:27:54.442473Z",
     "start_time": "2019-12-12T06:27:54.424522Z"
    }
   },
   "outputs": [
    {
     "name": "stdout",
     "output_type": "stream",
     "text": [
      "DAG[0]: 54.0%\n",
      "\tx0 <--- x3 (b>0)\n",
      "\tx1 <--- x0 (b>0)\n",
      "\tx1 <--- x2 (b>0)\n",
      "\tx2 <--- x3 (b>0)\n",
      "\tx4 <--- x0 (b>0)\n",
      "\tx4 <--- x2 (b<0)\n",
      "\tx5 <--- x0 (b>0)\n",
      "DAG[1]: 16.0%\n",
      "\tx0 <--- x3 (b>0)\n",
      "\tx1 <--- x0 (b>0)\n",
      "\tx1 <--- x2 (b>0)\n",
      "\tx2 <--- x3 (b>0)\n",
      "\tx4 <--- x0 (b>0)\n",
      "\tx4 <--- x2 (b<0)\n",
      "\tx4 <--- x5 (b>0)\n",
      "\tx5 <--- x0 (b>0)\n",
      "DAG[2]: 7.0%\n",
      "\tx0 <--- x3 (b>0)\n",
      "\tx1 <--- x0 (b>0)\n",
      "\tx1 <--- x2 (b>0)\n",
      "\tx1 <--- x3 (b>0)\n",
      "\tx2 <--- x3 (b>0)\n",
      "\tx4 <--- x0 (b>0)\n",
      "\tx4 <--- x2 (b<0)\n",
      "\tx5 <--- x0 (b>0)\n"
     ]
    }
   ],
   "source": [
    "print_dagc(dagc, 100)"
   ]
  },
  {
   "cell_type": "markdown",
   "metadata": {},
   "source": [
    "## Probability\n",
    "Using the `get_probabilities()` method, we can get the probability of bootstrapping."
   ]
  },
  {
   "cell_type": "code",
   "execution_count": 9,
   "metadata": {},
   "outputs": [
    {
     "name": "stdout",
     "output_type": "stream",
     "text": [
      "[[0.   0.   0.1  0.99 0.02 0.  ]\n",
      " [1.   0.   1.   0.1  0.   0.05]\n",
      " [0.   0.   0.   0.96 0.   0.  ]\n",
      " [0.   0.   0.04 0.   0.   0.  ]\n",
      " [0.98 0.   0.94 0.02 0.   0.2 ]\n",
      " [1.   0.   0.   0.   0.   0.  ]]\n"
     ]
    }
   ],
   "source": [
    "prob = result.get_probabilities(min_causal_effect=0.01)\n",
    "print(prob)"
   ]
  },
  {
   "cell_type": "markdown",
   "metadata": {},
   "source": [
    "## Causal Effects\n",
    "Using the `get_causal_effects()` method, we can get the list of causal effect. The causal effects we can get are dictionary type variable.\n",
    "We can display the list nicely by assigning it to pandas.DataFrame. Also, we have replaced the variable index with a label below."
   ]
  },
  {
   "cell_type": "code",
   "execution_count": 10,
   "metadata": {},
   "outputs": [
    {
     "data": {
      "text/html": [
       "<div>\n",
       "<style scoped>\n",
       "    .dataframe tbody tr th:only-of-type {\n",
       "        vertical-align: middle;\n",
       "    }\n",
       "\n",
       "    .dataframe tbody tr th {\n",
       "        vertical-align: top;\n",
       "    }\n",
       "\n",
       "    .dataframe thead th {\n",
       "        text-align: right;\n",
       "    }\n",
       "</style>\n",
       "<table border=\"1\" class=\"dataframe\">\n",
       "  <thead>\n",
       "    <tr style=\"text-align: right;\">\n",
       "      <th></th>\n",
       "      <th>from</th>\n",
       "      <th>to</th>\n",
       "      <th>effect</th>\n",
       "      <th>probability</th>\n",
       "    </tr>\n",
       "  </thead>\n",
       "  <tbody>\n",
       "    <tr>\n",
       "      <th>0</th>\n",
       "      <td>x3</td>\n",
       "      <td>x0</td>\n",
       "      <td>3.006190</td>\n",
       "      <td>1.00</td>\n",
       "    </tr>\n",
       "    <tr>\n",
       "      <th>1</th>\n",
       "      <td>x0</td>\n",
       "      <td>x1</td>\n",
       "      <td>3.004868</td>\n",
       "      <td>1.00</td>\n",
       "    </tr>\n",
       "    <tr>\n",
       "      <th>2</th>\n",
       "      <td>x2</td>\n",
       "      <td>x1</td>\n",
       "      <td>2.092102</td>\n",
       "      <td>1.00</td>\n",
       "    </tr>\n",
       "    <tr>\n",
       "      <th>3</th>\n",
       "      <td>x3</td>\n",
       "      <td>x1</td>\n",
       "      <td>20.931938</td>\n",
       "      <td>1.00</td>\n",
       "    </tr>\n",
       "    <tr>\n",
       "      <th>4</th>\n",
       "      <td>x0</td>\n",
       "      <td>x5</td>\n",
       "      <td>3.982892</td>\n",
       "      <td>1.00</td>\n",
       "    </tr>\n",
       "    <tr>\n",
       "      <th>5</th>\n",
       "      <td>x3</td>\n",
       "      <td>x5</td>\n",
       "      <td>12.024250</td>\n",
       "      <td>1.00</td>\n",
       "    </tr>\n",
       "    <tr>\n",
       "      <th>6</th>\n",
       "      <td>x2</td>\n",
       "      <td>x4</td>\n",
       "      <td>-0.887620</td>\n",
       "      <td>1.00</td>\n",
       "    </tr>\n",
       "    <tr>\n",
       "      <th>7</th>\n",
       "      <td>x3</td>\n",
       "      <td>x4</td>\n",
       "      <td>18.077244</td>\n",
       "      <td>1.00</td>\n",
       "    </tr>\n",
       "    <tr>\n",
       "      <th>8</th>\n",
       "      <td>x0</td>\n",
       "      <td>x4</td>\n",
       "      <td>7.993145</td>\n",
       "      <td>0.98</td>\n",
       "    </tr>\n",
       "    <tr>\n",
       "      <th>9</th>\n",
       "      <td>x3</td>\n",
       "      <td>x2</td>\n",
       "      <td>5.970163</td>\n",
       "      <td>0.96</td>\n",
       "    </tr>\n",
       "    <tr>\n",
       "      <th>10</th>\n",
       "      <td>x5</td>\n",
       "      <td>x1</td>\n",
       "      <td>0.011708</td>\n",
       "      <td>0.79</td>\n",
       "    </tr>\n",
       "    <tr>\n",
       "      <th>11</th>\n",
       "      <td>x2</td>\n",
       "      <td>x5</td>\n",
       "      <td>0.024284</td>\n",
       "      <td>0.72</td>\n",
       "    </tr>\n",
       "    <tr>\n",
       "      <th>12</th>\n",
       "      <td>x0</td>\n",
       "      <td>x2</td>\n",
       "      <td>0.014228</td>\n",
       "      <td>0.70</td>\n",
       "    </tr>\n",
       "    <tr>\n",
       "      <th>13</th>\n",
       "      <td>x5</td>\n",
       "      <td>x4</td>\n",
       "      <td>0.015170</td>\n",
       "      <td>0.66</td>\n",
       "    </tr>\n",
       "    <tr>\n",
       "      <th>14</th>\n",
       "      <td>x2</td>\n",
       "      <td>x0</td>\n",
       "      <td>0.015480</td>\n",
       "      <td>0.30</td>\n",
       "    </tr>\n",
       "    <tr>\n",
       "      <th>15</th>\n",
       "      <td>x1</td>\n",
       "      <td>x5</td>\n",
       "      <td>0.021215</td>\n",
       "      <td>0.21</td>\n",
       "    </tr>\n",
       "    <tr>\n",
       "      <th>16</th>\n",
       "      <td>x4</td>\n",
       "      <td>x1</td>\n",
       "      <td>-0.004251</td>\n",
       "      <td>0.04</td>\n",
       "    </tr>\n",
       "    <tr>\n",
       "      <th>17</th>\n",
       "      <td>x2</td>\n",
       "      <td>x3</td>\n",
       "      <td>0.163050</td>\n",
       "      <td>0.04</td>\n",
       "    </tr>\n",
       "    <tr>\n",
       "      <th>18</th>\n",
       "      <td>x4</td>\n",
       "      <td>x0</td>\n",
       "      <td>0.122301</td>\n",
       "      <td>0.02</td>\n",
       "    </tr>\n",
       "    <tr>\n",
       "      <th>19</th>\n",
       "      <td>x4</td>\n",
       "      <td>x5</td>\n",
       "      <td>0.009574</td>\n",
       "      <td>0.02</td>\n",
       "    </tr>\n",
       "  </tbody>\n",
       "</table>\n",
       "</div>"
      ],
      "text/plain": [
       "   from  to     effect  probability\n",
       "0    x3  x0   3.006190         1.00\n",
       "1    x0  x1   3.004868         1.00\n",
       "2    x2  x1   2.092102         1.00\n",
       "3    x3  x1  20.931938         1.00\n",
       "4    x0  x5   3.982892         1.00\n",
       "5    x3  x5  12.024250         1.00\n",
       "6    x2  x4  -0.887620         1.00\n",
       "7    x3  x4  18.077244         1.00\n",
       "8    x0  x4   7.993145         0.98\n",
       "9    x3  x2   5.970163         0.96\n",
       "10   x5  x1   0.011708         0.79\n",
       "11   x2  x5   0.024284         0.72\n",
       "12   x0  x2   0.014228         0.70\n",
       "13   x5  x4   0.015170         0.66\n",
       "14   x2  x0   0.015480         0.30\n",
       "15   x1  x5   0.021215         0.21\n",
       "16   x4  x1  -0.004251         0.04\n",
       "17   x2  x3   0.163050         0.04\n",
       "18   x4  x0   0.122301         0.02\n",
       "19   x4  x5   0.009574         0.02"
      ]
     },
     "execution_count": 10,
     "metadata": {},
     "output_type": "execute_result"
    }
   ],
   "source": [
    "causal_effects = result.get_causal_effects(min_causal_effect=0.01)\n",
    "\n",
    "# Assign to pandas.DataFrame for pretty display\n",
    "df = pd.DataFrame(causal_effects)\n",
    "labels = [f'x{i}' for i in range(X.shape[1])]\n",
    "df['from'] = df['from'].apply(lambda x : labels[x])\n",
    "df['to'] = df['to'].apply(lambda x : labels[x])\n",
    "df"
   ]
  },
  {
   "cell_type": "markdown",
   "metadata": {},
   "source": [
    "We can easily perform sorting operations with pandas.DataFrame."
   ]
  },
  {
   "cell_type": "code",
   "execution_count": 11,
   "metadata": {},
   "outputs": [
    {
     "data": {
      "text/html": [
       "<div>\n",
       "<style scoped>\n",
       "    .dataframe tbody tr th:only-of-type {\n",
       "        vertical-align: middle;\n",
       "    }\n",
       "\n",
       "    .dataframe tbody tr th {\n",
       "        vertical-align: top;\n",
       "    }\n",
       "\n",
       "    .dataframe thead th {\n",
       "        text-align: right;\n",
       "    }\n",
       "</style>\n",
       "<table border=\"1\" class=\"dataframe\">\n",
       "  <thead>\n",
       "    <tr style=\"text-align: right;\">\n",
       "      <th></th>\n",
       "      <th>from</th>\n",
       "      <th>to</th>\n",
       "      <th>effect</th>\n",
       "      <th>probability</th>\n",
       "    </tr>\n",
       "  </thead>\n",
       "  <tbody>\n",
       "    <tr>\n",
       "      <th>3</th>\n",
       "      <td>x3</td>\n",
       "      <td>x1</td>\n",
       "      <td>20.931938</td>\n",
       "      <td>1.00</td>\n",
       "    </tr>\n",
       "    <tr>\n",
       "      <th>7</th>\n",
       "      <td>x3</td>\n",
       "      <td>x4</td>\n",
       "      <td>18.077244</td>\n",
       "      <td>1.00</td>\n",
       "    </tr>\n",
       "    <tr>\n",
       "      <th>5</th>\n",
       "      <td>x3</td>\n",
       "      <td>x5</td>\n",
       "      <td>12.024250</td>\n",
       "      <td>1.00</td>\n",
       "    </tr>\n",
       "    <tr>\n",
       "      <th>8</th>\n",
       "      <td>x0</td>\n",
       "      <td>x4</td>\n",
       "      <td>7.993145</td>\n",
       "      <td>0.98</td>\n",
       "    </tr>\n",
       "    <tr>\n",
       "      <th>9</th>\n",
       "      <td>x3</td>\n",
       "      <td>x2</td>\n",
       "      <td>5.970163</td>\n",
       "      <td>0.96</td>\n",
       "    </tr>\n",
       "  </tbody>\n",
       "</table>\n",
       "</div>"
      ],
      "text/plain": [
       "  from  to     effect  probability\n",
       "3   x3  x1  20.931938         1.00\n",
       "7   x3  x4  18.077244         1.00\n",
       "5   x3  x5  12.024250         1.00\n",
       "8   x0  x4   7.993145         0.98\n",
       "9   x3  x2   5.970163         0.96"
      ]
     },
     "execution_count": 11,
     "metadata": {},
     "output_type": "execute_result"
    }
   ],
   "source": [
    "df.sort_values('effect', ascending=False).head()"
   ]
  },
  {
   "cell_type": "code",
   "execution_count": 12,
   "metadata": {},
   "outputs": [
    {
     "data": {
      "text/html": [
       "<div>\n",
       "<style scoped>\n",
       "    .dataframe tbody tr th:only-of-type {\n",
       "        vertical-align: middle;\n",
       "    }\n",
       "\n",
       "    .dataframe tbody tr th {\n",
       "        vertical-align: top;\n",
       "    }\n",
       "\n",
       "    .dataframe thead th {\n",
       "        text-align: right;\n",
       "    }\n",
       "</style>\n",
       "<table border=\"1\" class=\"dataframe\">\n",
       "  <thead>\n",
       "    <tr style=\"text-align: right;\">\n",
       "      <th></th>\n",
       "      <th>from</th>\n",
       "      <th>to</th>\n",
       "      <th>effect</th>\n",
       "      <th>probability</th>\n",
       "    </tr>\n",
       "  </thead>\n",
       "  <tbody>\n",
       "    <tr>\n",
       "      <th>19</th>\n",
       "      <td>x4</td>\n",
       "      <td>x5</td>\n",
       "      <td>0.009574</td>\n",
       "      <td>0.02</td>\n",
       "    </tr>\n",
       "    <tr>\n",
       "      <th>18</th>\n",
       "      <td>x4</td>\n",
       "      <td>x0</td>\n",
       "      <td>0.122301</td>\n",
       "      <td>0.02</td>\n",
       "    </tr>\n",
       "    <tr>\n",
       "      <th>17</th>\n",
       "      <td>x2</td>\n",
       "      <td>x3</td>\n",
       "      <td>0.163050</td>\n",
       "      <td>0.04</td>\n",
       "    </tr>\n",
       "    <tr>\n",
       "      <th>16</th>\n",
       "      <td>x4</td>\n",
       "      <td>x1</td>\n",
       "      <td>-0.004251</td>\n",
       "      <td>0.04</td>\n",
       "    </tr>\n",
       "    <tr>\n",
       "      <th>15</th>\n",
       "      <td>x1</td>\n",
       "      <td>x5</td>\n",
       "      <td>0.021215</td>\n",
       "      <td>0.21</td>\n",
       "    </tr>\n",
       "  </tbody>\n",
       "</table>\n",
       "</div>"
      ],
      "text/plain": [
       "   from  to    effect  probability\n",
       "19   x4  x5  0.009574         0.02\n",
       "18   x4  x0  0.122301         0.02\n",
       "17   x2  x3  0.163050         0.04\n",
       "16   x4  x1 -0.004251         0.04\n",
       "15   x1  x5  0.021215         0.21"
      ]
     },
     "execution_count": 12,
     "metadata": {},
     "output_type": "execute_result"
    }
   ],
   "source": [
    "df.sort_values('probability', ascending=True).head()"
   ]
  },
  {
   "cell_type": "markdown",
   "metadata": {},
   "source": [
    "And with pandas.DataFrame, we can easily filter by keywords. The following code extracts the causal direction towards x1."
   ]
  },
  {
   "cell_type": "code",
   "execution_count": 13,
   "metadata": {},
   "outputs": [
    {
     "data": {
      "text/html": [
       "<div>\n",
       "<style scoped>\n",
       "    .dataframe tbody tr th:only-of-type {\n",
       "        vertical-align: middle;\n",
       "    }\n",
       "\n",
       "    .dataframe tbody tr th {\n",
       "        vertical-align: top;\n",
       "    }\n",
       "\n",
       "    .dataframe thead th {\n",
       "        text-align: right;\n",
       "    }\n",
       "</style>\n",
       "<table border=\"1\" class=\"dataframe\">\n",
       "  <thead>\n",
       "    <tr style=\"text-align: right;\">\n",
       "      <th></th>\n",
       "      <th>from</th>\n",
       "      <th>to</th>\n",
       "      <th>effect</th>\n",
       "      <th>probability</th>\n",
       "    </tr>\n",
       "  </thead>\n",
       "  <tbody>\n",
       "    <tr>\n",
       "      <th>1</th>\n",
       "      <td>x0</td>\n",
       "      <td>x1</td>\n",
       "      <td>3.004868</td>\n",
       "      <td>1.00</td>\n",
       "    </tr>\n",
       "    <tr>\n",
       "      <th>2</th>\n",
       "      <td>x2</td>\n",
       "      <td>x1</td>\n",
       "      <td>2.092102</td>\n",
       "      <td>1.00</td>\n",
       "    </tr>\n",
       "    <tr>\n",
       "      <th>3</th>\n",
       "      <td>x3</td>\n",
       "      <td>x1</td>\n",
       "      <td>20.931938</td>\n",
       "      <td>1.00</td>\n",
       "    </tr>\n",
       "    <tr>\n",
       "      <th>10</th>\n",
       "      <td>x5</td>\n",
       "      <td>x1</td>\n",
       "      <td>0.011708</td>\n",
       "      <td>0.79</td>\n",
       "    </tr>\n",
       "    <tr>\n",
       "      <th>16</th>\n",
       "      <td>x4</td>\n",
       "      <td>x1</td>\n",
       "      <td>-0.004251</td>\n",
       "      <td>0.04</td>\n",
       "    </tr>\n",
       "  </tbody>\n",
       "</table>\n",
       "</div>"
      ],
      "text/plain": [
       "   from  to     effect  probability\n",
       "1    x0  x1   3.004868         1.00\n",
       "2    x2  x1   2.092102         1.00\n",
       "3    x3  x1  20.931938         1.00\n",
       "10   x5  x1   0.011708         0.79\n",
       "16   x4  x1  -0.004251         0.04"
      ]
     },
     "execution_count": 13,
     "metadata": {},
     "output_type": "execute_result"
    }
   ],
   "source": [
    "df[df['to']=='x1'].head()"
   ]
  },
  {
   "cell_type": "markdown",
   "metadata": {},
   "source": [
    "Because it holds the raw data of the causal effect (the original data for calculating the median), it is possible to draw a histogram of the values of the causal effect, as shown below."
   ]
  },
  {
   "cell_type": "code",
   "execution_count": 14,
   "metadata": {},
   "outputs": [
    {
     "data": {
      "text/plain": [
       "(array([ 4.,  0.,  0.,  0.,  0.,  0.,  0.,  0.,  0., 96.]),\n",
       " array([2.914, 2.923, 2.932, 2.941, 2.951, 2.96 , 2.969, 2.978, 2.988,\n",
       "        2.997, 3.006]),\n",
       " <a list of 10 Patch objects>)"
      ]
     },
     "execution_count": 14,
     "metadata": {},
     "output_type": "execute_result"
    },
    {
     "data": {
      "image/png": "[encoded data removed]",
      "text/plain": [
       "<Figure size 432x288 with 1 Axes>"
      ]
     },
     "metadata": {
      "needs_background": "light"
     },
     "output_type": "display_data"
    }
   ],
   "source": [
    "import matplotlib.pyplot as plt\n",
    "import seaborn as sns\n",
    "sns.set()\n",
    "%matplotlib inline\n",
    "\n",
    "from_index = 3 # index of x3\n",
    "to_index = 0 # index of x0\n",
    "plt.hist(result.total_effects_[:, to_index, from_index])"
   ]
  }
 ],
 "metadata": {
  "kernelspec": {
   "display_name": "Python 3",
   "language": "python",
   "name": "python3"
  },
  "language_info": {
   "codemirror_mode": {
    "name": "ipython",
    "version": 3
   },
   "file_extension": ".py",
   "mimetype": "text/x-python",
   "name": "python",
   "nbconvert_exporter": "python",
   "pygments_lexer": "ipython3",
   "version": "3.7.3"
  },
  "toc": {
   "base_numbering": 1,
   "nav_menu": {},
   "number_sections": true,
   "sideBar": true,
   "skip_h1_title": false,
   "title_cell": "Table of Contents",
   "title_sidebar": "Contents",
   "toc_cell": false,
   "toc_position": {},
   "toc_section_display": true,
   "toc_window_display": false
  }
 },
 "nbformat": 4,
 "nbformat_minor": 2
}
