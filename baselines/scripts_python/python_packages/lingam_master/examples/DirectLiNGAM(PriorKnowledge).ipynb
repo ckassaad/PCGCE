{
 "cells": [
  {
   "cell_type": "markdown",
   "metadata": {},
   "source": [
    "# DirectLiNGAM with prior knowledge"
   ]
  },
  {
   "cell_type": "markdown",
   "metadata": {},
   "source": [
    "## Import and settings\n",
    "In this example, we need to import `numpy`, `pandas`, and `graphviz` in addition to `lingam`."
   ]
  },
  {
   "cell_type": "code",
   "execution_count": 1,
   "metadata": {
    "ExecuteTime": {
     "end_time": "2019-12-12T06:27:49.386559Z",
     "start_time": "2019-12-12T06:27:47.059613Z"
    }
   },
   "outputs": [
    {
     "name": "stdout",
     "output_type": "stream",
     "text": [
      "['1.16.2', '0.24.2', '0.11.1', '1.2.0']\n"
     ]
    }
   ],
   "source": [
    "import numpy as np\n",
    "import pandas as pd\n",
    "import graphviz\n",
    "import lingam\n",
    "from lingam.utils import make_prior_knowledge, make_dot\n",
    "\n",
    "print([np.__version__, pd.__version__, graphviz.__version__, lingam.__version__])\n",
    "\n",
    "np.set_printoptions(precision=3, suppress=True)\n",
    "np.random.seed(0)"
   ]
  },
  {
   "cell_type": "markdown",
   "metadata": {},
   "source": [
    "## Utility function\n",
    "We define a utility function to draw the directed acyclic graph."
   ]
  },
  {
   "cell_type": "code",
   "execution_count": 2,
   "metadata": {
    "ExecuteTime": {
     "end_time": "2019-12-12T06:27:49.416479Z",
     "start_time": "2019-12-12T06:27:49.404510Z"
    }
   },
   "outputs": [],
   "source": [
    "def make_prior_knowledge_graph(prior_knowledge_matrix):\n",
    "    d = graphviz.Digraph(engine='dot')\n",
    "    \n",
    "    labels = [f'x{i}' for i in range(prior_knowledge_matrix.shape[0])]\n",
    "    for label in labels:\n",
    "        d.node(label, label)\n",
    "\n",
    "    dirs = np.where(prior_knowledge_matrix > 0)\n",
    "    for to, from_ in zip(dirs[0], dirs[1]):\n",
    "        d.edge(labels[from_], labels[to])\n",
    "\n",
    "    dirs = np.where(prior_knowledge_matrix < 0)\n",
    "    for to, from_ in zip(dirs[0], dirs[1]):\n",
    "        d.edge(labels[from_], labels[to], style='dashed')\n",
    "    return d"
   ]
  },
  {
   "cell_type": "markdown",
   "metadata": {},
   "source": [
    "## Test data\n",
    "We create test data consisting of 6 variables."
   ]
  },
  {
   "cell_type": "code",
   "execution_count": 3,
   "metadata": {
    "ExecuteTime": {
     "end_time": "2019-12-12T06:27:49.484297Z",
     "start_time": "2019-12-12T06:27:49.420469Z"
    }
   },
   "outputs": [
    {
     "data": {
      "text/html": [
       "<div>\n",
       "<style scoped>\n",
       "    .dataframe tbody tr th:only-of-type {\n",
       "        vertical-align: middle;\n",
       "    }\n",
       "\n",
       "    .dataframe tbody tr th {\n",
       "        vertical-align: top;\n",
       "    }\n",
       "\n",
       "    .dataframe thead th {\n",
       "        text-align: right;\n",
       "    }\n",
       "</style>\n",
       "<table border=\"1\" class=\"dataframe\">\n",
       "  <thead>\n",
       "    <tr style=\"text-align: right;\">\n",
       "      <th></th>\n",
       "      <th>x0</th>\n",
       "      <th>x1</th>\n",
       "      <th>x2</th>\n",
       "      <th>x3</th>\n",
       "      <th>x4</th>\n",
       "      <th>x5</th>\n",
       "    </tr>\n",
       "  </thead>\n",
       "  <tbody>\n",
       "    <tr>\n",
       "      <th>0</th>\n",
       "      <td>2.394708</td>\n",
       "      <td>15.312359</td>\n",
       "      <td>3.685054</td>\n",
       "      <td>0.548814</td>\n",
       "      <td>15.780259</td>\n",
       "      <td>9.948090</td>\n",
       "    </tr>\n",
       "    <tr>\n",
       "      <th>1</th>\n",
       "      <td>2.325771</td>\n",
       "      <td>16.145216</td>\n",
       "      <td>4.332293</td>\n",
       "      <td>0.715189</td>\n",
       "      <td>14.335879</td>\n",
       "      <td>9.514409</td>\n",
       "    </tr>\n",
       "    <tr>\n",
       "      <th>2</th>\n",
       "      <td>2.197313</td>\n",
       "      <td>15.848718</td>\n",
       "      <td>4.539881</td>\n",
       "      <td>0.602763</td>\n",
       "      <td>14.027410</td>\n",
       "      <td>9.266158</td>\n",
       "    </tr>\n",
       "    <tr>\n",
       "      <th>3</th>\n",
       "      <td>1.672250</td>\n",
       "      <td>13.200354</td>\n",
       "      <td>3.675534</td>\n",
       "      <td>0.544883</td>\n",
       "      <td>10.421554</td>\n",
       "      <td>6.771233</td>\n",
       "    </tr>\n",
       "    <tr>\n",
       "      <th>4</th>\n",
       "      <td>1.282752</td>\n",
       "      <td>11.337503</td>\n",
       "      <td>3.486211</td>\n",
       "      <td>0.423655</td>\n",
       "      <td>7.533376</td>\n",
       "      <td>5.368668</td>\n",
       "    </tr>\n",
       "  </tbody>\n",
       "</table>\n",
       "</div>"
      ],
      "text/plain": [
       "         x0         x1        x2        x3         x4        x5\n",
       "0  2.394708  15.312359  3.685054  0.548814  15.780259  9.948090\n",
       "1  2.325771  16.145216  4.332293  0.715189  14.335879  9.514409\n",
       "2  2.197313  15.848718  4.539881  0.602763  14.027410  9.266158\n",
       "3  1.672250  13.200354  3.675534  0.544883  10.421554  6.771233\n",
       "4  1.282752  11.337503  3.486211  0.423655   7.533376  5.368668"
      ]
     },
     "execution_count": 3,
     "metadata": {},
     "output_type": "execute_result"
    }
   ],
   "source": [
    "x3 = np.random.uniform(size=10000)\n",
    "x0 = 3.0*x3 + np.random.uniform(size=10000)\n",
    "x2 = 6.0*x3 + np.random.uniform(size=10000)\n",
    "x1 = 3.0*x0 + 2.0*x2 + np.random.uniform(size=10000)\n",
    "x5 = 4.0*x0 + np.random.uniform(size=10000)\n",
    "x4 = 8.0*x0 - 1.0*x2 + np.random.uniform(size=10000)\n",
    "X = pd.DataFrame(np.array([x0, x1, x2, x3, x4, x5]).T ,columns=['x0', 'x1', 'x2', 'x3', 'x4', 'x5'])\n",
    "X.head()"
   ]
  },
  {
   "cell_type": "code",
   "execution_count": 4,
   "metadata": {
    "ExecuteTime": {
     "end_time": "2019-12-12T06:27:49.947772Z",
     "start_time": "2019-12-12T06:27:49.486292Z"
    }
   },
   "outputs": [
    {
     "data": {
      "image/svg+xml": [
       "<?xml version=\"1.0\" encoding=\"UTF-8\" standalone=\"no\"?>\r\n",
       "<!DOCTYPE svg PUBLIC \"-//W3C//DTD SVG 1.1//EN\"\r\n",
       " \"http://www.w3.org/Graphics/SVG/1.1/DTD/svg11.dtd\">\r\n",
       "<!-- Generated by graphviz version 2.38.0 (20140413.2041)\r\n",
       " -->\r\n",
       "<!-- Title: %3 Pages: 1 -->\r\n",
       "<svg width=\"245pt\" height=\"218pt\"\r\n",
       " viewBox=\"0.00 0.00 245.00 218.00\" xmlns=\"http://www.w3.org/2000/svg\" xmlns:xlink=\"http://www.w3.org/1999/xlink\">\r\n",
       "<g id=\"graph0\" class=\"graph\" transform=\"scale(1 1) rotate(0) translate(4 214)\">\r\n",
       "<title>%3</title>\r\n",
       "<polygon fill=\"white\" stroke=\"none\" points=\"-4,4 -4,-214 241,-214 241,4 -4,4\"/>\r\n",
       "<!-- x0 -->\r\n",
       "<g id=\"node1\" class=\"node\"><title>x0</title>\r\n",
       "<ellipse fill=\"none\" stroke=\"black\" cx=\"150\" cy=\"-105\" rx=\"27\" ry=\"18\"/>\r\n",
       "<text text-anchor=\"middle\" x=\"150\" y=\"-101.3\" font-family=\"Times New Roman,serif\" font-size=\"14.00\">x0</text>\r\n",
       "</g>\r\n",
       "<!-- x1 -->\r\n",
       "<g id=\"node2\" class=\"node\"><title>x1</title>\r\n",
       "<ellipse fill=\"none\" stroke=\"black\" cx=\"125\" cy=\"-18\" rx=\"27\" ry=\"18\"/>\r\n",
       "<text text-anchor=\"middle\" x=\"125\" y=\"-14.3\" font-family=\"Times New Roman,serif\" font-size=\"14.00\">x1</text>\r\n",
       "</g>\r\n",
       "<!-- x0&#45;&gt;x1 -->\r\n",
       "<g id=\"edge2\" class=\"edge\"><title>x0&#45;&gt;x1</title>\r\n",
       "<path fill=\"none\" stroke=\"black\" d=\"M147.442,-86.6548C145.783,-76.931 143.308,-64.6521 140,-54 139.069,-51.0031 137.968,-47.9142 136.791,-44.8705\"/>\r\n",
       "<polygon fill=\"black\" stroke=\"black\" points=\"139.956,-43.3657 132.892,-35.4693 133.49,-46.0472 139.956,-43.3657\"/>\r\n",
       "<text text-anchor=\"middle\" x=\"155.5\" y=\"-57.8\" font-family=\"Times New Roman,serif\" font-size=\"14.00\">3.00</text>\r\n",
       "</g>\r\n",
       "<!-- x4 -->\r\n",
       "<g id=\"node5\" class=\"node\"><title>x4</title>\r\n",
       "<ellipse fill=\"none\" stroke=\"black\" cx=\"27\" cy=\"-18\" rx=\"27\" ry=\"18\"/>\r\n",
       "<text text-anchor=\"middle\" x=\"27\" y=\"-14.3\" font-family=\"Times New Roman,serif\" font-size=\"14.00\">x4</text>\r\n",
       "</g>\r\n",
       "<!-- x0&#45;&gt;x4 -->\r\n",
       "<g id=\"edge5\" class=\"edge\"><title>x0&#45;&gt;x4</title>\r\n",
       "<path fill=\"none\" stroke=\"black\" d=\"M134.544,-90.005C120.464,-77.3813 100.597,-59.916 92,-54 81.194,-46.5643 68.6395,-39.4801 57.4616,-33.6547\"/>\r\n",
       "<polygon fill=\"black\" stroke=\"black\" points=\"58.9644,-30.4924 48.4645,-29.0773 55.7902,-36.7313 58.9644,-30.4924\"/>\r\n",
       "<text text-anchor=\"middle\" x=\"121.5\" y=\"-57.8\" font-family=\"Times New Roman,serif\" font-size=\"14.00\">8.00</text>\r\n",
       "</g>\r\n",
       "<!-- x5 -->\r\n",
       "<g id=\"node6\" class=\"node\"><title>x5</title>\r\n",
       "<ellipse fill=\"none\" stroke=\"black\" cx=\"210\" cy=\"-18\" rx=\"27\" ry=\"18\"/>\r\n",
       "<text text-anchor=\"middle\" x=\"210\" y=\"-14.3\" font-family=\"Times New Roman,serif\" font-size=\"14.00\">x5</text>\r\n",
       "</g>\r\n",
       "<!-- x0&#45;&gt;x5 -->\r\n",
       "<g id=\"edge7\" class=\"edge\"><title>x0&#45;&gt;x5</title>\r\n",
       "<path fill=\"none\" stroke=\"black\" d=\"M161.005,-88.4097C169.97,-75.709 182.78,-57.5615 193.053,-43.0079\"/>\r\n",
       "<polygon fill=\"black\" stroke=\"black\" points=\"196.157,-44.6796 199.065,-34.4915 190.439,-40.6428 196.157,-44.6796\"/>\r\n",
       "<text text-anchor=\"middle\" x=\"195.5\" y=\"-57.8\" font-family=\"Times New Roman,serif\" font-size=\"14.00\">4.00</text>\r\n",
       "</g>\r\n",
       "<!-- x2 -->\r\n",
       "<g id=\"node3\" class=\"node\"><title>x2</title>\r\n",
       "<ellipse fill=\"none\" stroke=\"black\" cx=\"66\" cy=\"-105\" rx=\"27\" ry=\"18\"/>\r\n",
       "<text text-anchor=\"middle\" x=\"66\" y=\"-101.3\" font-family=\"Times New Roman,serif\" font-size=\"14.00\">x2</text>\r\n",
       "</g>\r\n",
       "<!-- x2&#45;&gt;x1 -->\r\n",
       "<g id=\"edge3\" class=\"edge\"><title>x2&#45;&gt;x1</title>\r\n",
       "<path fill=\"none\" stroke=\"black\" d=\"M62.441,-87.1561C61.1798,-76.9067 61.2665,-63.9233 67,-54 72.721,-44.0984 82.4634,-36.6692 92.347,-31.2627\"/>\r\n",
       "<polygon fill=\"black\" stroke=\"black\" points=\"93.9103,-34.3944 101.352,-26.8534 90.8319,-28.1076 93.9103,-34.3944\"/>\r\n",
       "<text text-anchor=\"middle\" x=\"79.5\" y=\"-57.8\" font-family=\"Times New Roman,serif\" font-size=\"14.00\">2.00</text>\r\n",
       "</g>\r\n",
       "<!-- x2&#45;&gt;x4 -->\r\n",
       "<g id=\"edge6\" class=\"edge\"><title>x2&#45;&gt;x4</title>\r\n",
       "<path fill=\"none\" stroke=\"black\" d=\"M43.7256,-94.7988C32.9729,-89.0846 21.1041,-80.5923 15,-69 11.0376,-61.4751 11.6861,-52.6266 14.0624,-44.4816\"/>\r\n",
       "<polygon fill=\"black\" stroke=\"black\" points=\"17.3723,-45.6237 17.6242,-35.0319 10.8221,-43.1548 17.3723,-45.6237\"/>\r\n",
       "<text text-anchor=\"middle\" x=\"29.5\" y=\"-57.8\" font-family=\"Times New Roman,serif\" font-size=\"14.00\">&#45;1.00</text>\r\n",
       "</g>\r\n",
       "<!-- x3 -->\r\n",
       "<g id=\"node4\" class=\"node\"><title>x3</title>\r\n",
       "<ellipse fill=\"none\" stroke=\"black\" cx=\"112\" cy=\"-192\" rx=\"27\" ry=\"18\"/>\r\n",
       "<text text-anchor=\"middle\" x=\"112\" y=\"-188.3\" font-family=\"Times New Roman,serif\" font-size=\"14.00\">x3</text>\r\n",
       "</g>\r\n",
       "<!-- x3&#45;&gt;x0 -->\r\n",
       "<g id=\"edge1\" class=\"edge\"><title>x3&#45;&gt;x0</title>\r\n",
       "<path fill=\"none\" stroke=\"black\" d=\"M119.327,-174.611C124.741,-162.499 132.221,-145.768 138.439,-131.86\"/>\r\n",
       "<polygon fill=\"black\" stroke=\"black\" points=\"141.81,-132.896 142.696,-122.339 135.419,-130.039 141.81,-132.896\"/>\r\n",
       "<text text-anchor=\"middle\" x=\"145.5\" y=\"-144.8\" font-family=\"Times New Roman,serif\" font-size=\"14.00\">3.00</text>\r\n",
       "</g>\r\n",
       "<!-- x3&#45;&gt;x2 -->\r\n",
       "<g id=\"edge4\" class=\"edge\"><title>x3&#45;&gt;x2</title>\r\n",
       "<path fill=\"none\" stroke=\"black\" d=\"M103.131,-174.611C96.47,-162.303 87.2279,-145.226 79.6308,-131.187\"/>\r\n",
       "<polygon fill=\"black\" stroke=\"black\" points=\"82.5237,-129.179 74.686,-122.05 76.3674,-132.511 82.5237,-129.179\"/>\r\n",
       "<text text-anchor=\"middle\" x=\"103.5\" y=\"-144.8\" font-family=\"Times New Roman,serif\" font-size=\"14.00\">6.00</text>\r\n",
       "</g>\r\n",
       "</g>\r\n",
       "</svg>\r\n"
      ],
      "text/plain": [
       "<graphviz.dot.Digraph at 0x1f5c26e0780>"
      ]
     },
     "execution_count": 4,
     "metadata": {},
     "output_type": "execute_result"
    }
   ],
   "source": [
    "m = np.array([[0.0, 0.0, 0.0, 3.0, 0.0, 0.0],\n",
    "              [3.0, 0.0, 2.0, 0.0, 0.0, 0.0],\n",
    "              [0.0, 0.0, 0.0, 6.0, 0.0, 0.0],\n",
    "              [0.0, 0.0, 0.0, 0.0, 0.0, 0.0],\n",
    "              [8.0, 0.0,-1.0, 0.0, 0.0, 0.0],\n",
    "              [4.0, 0.0, 0.0, 0.0, 0.0, 0.0]])\n",
    "\n",
    "make_dot(m)"
   ]
  },
  {
   "cell_type": "markdown",
   "metadata": {},
   "source": [
    "## Prior Knowledge\n",
    "We create prior knowledge so that x0 is an exogenous variable."
   ]
  },
  {
   "cell_type": "code",
   "execution_count": 5,
   "metadata": {
    "ExecuteTime": {
     "end_time": "2019-12-12T06:27:50.380209Z",
     "start_time": "2019-12-12T06:27:49.950763Z"
    }
   },
   "outputs": [
    {
     "name": "stdout",
     "output_type": "stream",
     "text": [
      "[[ 0  0  0  0  0  0]\n",
      " [-1  0 -1 -1 -1 -1]\n",
      " [-1 -1  0 -1 -1 -1]\n",
      " [-1 -1 -1  0 -1 -1]\n",
      " [-1 -1 -1 -1  0 -1]\n",
      " [-1 -1 -1 -1 -1  0]]\n"
     ]
    },
    {
     "data": {
      "image/svg+xml": [
       "<?xml version=\"1.0\" encoding=\"UTF-8\" standalone=\"no\"?>\r\n",
       "<!DOCTYPE svg PUBLIC \"-//W3C//DTD SVG 1.1//EN\"\r\n",
       " \"http://www.w3.org/Graphics/SVG/1.1/DTD/svg11.dtd\">\r\n",
       "<!-- Generated by graphviz version 2.38.0 (20140413.2041)\r\n",
       " -->\r\n",
       "<!-- Title: %3 Pages: 1 -->\r\n",
       "<svg width=\"317pt\" height=\"404pt\"\r\n",
       " viewBox=\"0.00 0.00 317.23 404.00\" xmlns=\"http://www.w3.org/2000/svg\" xmlns:xlink=\"http://www.w3.org/1999/xlink\">\r\n",
       "<g id=\"graph0\" class=\"graph\" transform=\"scale(1 1) rotate(0) translate(4 400)\">\r\n",
       "<title>%3</title>\r\n",
       "<polygon fill=\"white\" stroke=\"none\" points=\"-4,4 -4,-400 313.227,-400 313.227,4 -4,4\"/>\r\n",
       "<!-- x0 -->\r\n",
       "<g id=\"node1\" class=\"node\"><title>x0</title>\r\n",
       "<ellipse fill=\"none\" stroke=\"black\" cx=\"157\" cy=\"-378\" rx=\"27\" ry=\"18\"/>\r\n",
       "<text text-anchor=\"middle\" x=\"157\" y=\"-374.3\" font-family=\"Times New Roman,serif\" font-size=\"14.00\">x0</text>\r\n",
       "</g>\r\n",
       "<!-- x1 -->\r\n",
       "<g id=\"node2\" class=\"node\"><title>x1</title>\r\n",
       "<ellipse fill=\"none\" stroke=\"black\" cx=\"157\" cy=\"-306\" rx=\"27\" ry=\"18\"/>\r\n",
       "<text text-anchor=\"middle\" x=\"157\" y=\"-302.3\" font-family=\"Times New Roman,serif\" font-size=\"14.00\">x1</text>\r\n",
       "</g>\r\n",
       "<!-- x0&#45;&gt;x1 -->\r\n",
       "<g id=\"edge1\" class=\"edge\"><title>x0&#45;&gt;x1</title>\r\n",
       "<path fill=\"none\" stroke=\"black\" stroke-dasharray=\"5,2\" d=\"M157,-359.697C157,-351.983 157,-342.712 157,-334.112\"/>\r\n",
       "<polygon fill=\"black\" stroke=\"black\" points=\"160.5,-334.104 157,-324.104 153.5,-334.104 160.5,-334.104\"/>\r\n",
       "</g>\r\n",
       "<!-- x2 -->\r\n",
       "<g id=\"node3\" class=\"node\"><title>x2</title>\r\n",
       "<ellipse fill=\"none\" stroke=\"black\" cx=\"261\" cy=\"-234\" rx=\"27\" ry=\"18\"/>\r\n",
       "<text text-anchor=\"middle\" x=\"261\" y=\"-230.3\" font-family=\"Times New Roman,serif\" font-size=\"14.00\">x2</text>\r\n",
       "</g>\r\n",
       "<!-- x0&#45;&gt;x2 -->\r\n",
       "<g id=\"edge6\" class=\"edge\"><title>x0&#45;&gt;x2</title>\r\n",
       "<path fill=\"none\" stroke=\"black\" stroke-dasharray=\"5,2\" d=\"M168.328,-361.533C186.458,-336.779 222.124,-288.081 243.534,-258.847\"/>\r\n",
       "<polygon fill=\"black\" stroke=\"black\" points=\"246.601,-260.583 249.686,-250.448 240.954,-256.447 246.601,-260.583\"/>\r\n",
       "</g>\r\n",
       "<!-- x3 -->\r\n",
       "<g id=\"node4\" class=\"node\"><title>x3</title>\r\n",
       "<ellipse fill=\"none\" stroke=\"black\" cx=\"197\" cy=\"-18\" rx=\"27\" ry=\"18\"/>\r\n",
       "<text text-anchor=\"middle\" x=\"197\" y=\"-14.3\" font-family=\"Times New Roman,serif\" font-size=\"14.00\">x3</text>\r\n",
       "</g>\r\n",
       "<!-- x0&#45;&gt;x3 -->\r\n",
       "<g id=\"edge11\" class=\"edge\"><title>x0&#45;&gt;x3</title>\r\n",
       "<path fill=\"none\" stroke=\"black\" stroke-dasharray=\"5,2\" d=\"M133.834,-368.593C90.1619,-351.083 0,-306.299 0,-235 0,-235 0,-235 0,-161 0,-82.2153 104.969,-42.7866 161.661,-27.2369\"/>\r\n",
       "<polygon fill=\"black\" stroke=\"black\" points=\"162.87,-30.5381 171.649,-24.6073 161.087,-23.7688 162.87,-30.5381\"/>\r\n",
       "</g>\r\n",
       "<!-- x4 -->\r\n",
       "<g id=\"node5\" class=\"node\"><title>x4</title>\r\n",
       "<ellipse fill=\"none\" stroke=\"black\" cx=\"197\" cy=\"-90\" rx=\"27\" ry=\"18\"/>\r\n",
       "<text text-anchor=\"middle\" x=\"197\" y=\"-86.3\" font-family=\"Times New Roman,serif\" font-size=\"14.00\">x4</text>\r\n",
       "</g>\r\n",
       "<!-- x0&#45;&gt;x4 -->\r\n",
       "<g id=\"edge16\" class=\"edge\"><title>x0&#45;&gt;x4</title>\r\n",
       "<path fill=\"none\" stroke=\"black\" stroke-dasharray=\"5,2\" d=\"M143.25,-362.069C135.039,-352.1 125.381,-338.247 121,-324 116.297,-308.707 118.097,-303.735 121,-288 132.904,-223.469 165.319,-152.864 183.741,-116.23\"/>\r\n",
       "<polygon fill=\"black\" stroke=\"black\" points=\"186.895,-117.75 188.32,-107.251 180.659,-114.57 186.895,-117.75\"/>\r\n",
       "</g>\r\n",
       "<!-- x5 -->\r\n",
       "<g id=\"node6\" class=\"node\"><title>x5</title>\r\n",
       "<ellipse fill=\"none\" stroke=\"black\" cx=\"261\" cy=\"-162\" rx=\"27\" ry=\"18\"/>\r\n",
       "<text text-anchor=\"middle\" x=\"261\" y=\"-158.3\" font-family=\"Times New Roman,serif\" font-size=\"14.00\">x5</text>\r\n",
       "</g>\r\n",
       "<!-- x0&#45;&gt;x5 -->\r\n",
       "<g id=\"edge21\" class=\"edge\"><title>x0&#45;&gt;x5</title>\r\n",
       "<path fill=\"none\" stroke=\"black\" stroke-dasharray=\"5,2\" d=\"M177.922,-366.303C210.881,-348.082 273.551,-307.532 297,-252 303.224,-237.26 301.703,-231.293 297,-216 293.714,-205.315 287.46,-194.851 281.075,-186.081\"/>\r\n",
       "<polygon fill=\"black\" stroke=\"black\" points=\"283.646,-183.686 274.75,-177.931 278.116,-187.977 283.646,-183.686\"/>\r\n",
       "</g>\r\n",
       "<!-- x1&#45;&gt;x2 -->\r\n",
       "<g id=\"edge7\" class=\"edge\"><title>x1&#45;&gt;x2</title>\r\n",
       "<path fill=\"none\" stroke=\"black\" stroke-dasharray=\"5,2\" d=\"M172.497,-290.834C188.091,-279.316 212.16,-263.063 231.356,-251.061\"/>\r\n",
       "<polygon fill=\"black\" stroke=\"black\" points=\"233.369,-253.932 240.057,-245.715 229.704,-247.968 233.369,-253.932\"/>\r\n",
       "</g>\r\n",
       "<!-- x1&#45;&gt;x3 -->\r\n",
       "<g id=\"edge12\" class=\"edge\"><title>x1&#45;&gt;x3</title>\r\n",
       "<path fill=\"none\" stroke=\"black\" stroke-dasharray=\"5,2\" d=\"M149.585,-288.671C139.093,-249.937 127.31,-149.905 152,-72 155.795,-60.0263 163.246,-48.3036 171.163,-38.9402\"/>\r\n",
       "<polygon fill=\"black\" stroke=\"black\" points=\"173.941,-41.091 178.159,-31.3721 168.801,-36.3393 173.941,-41.091\"/>\r\n",
       "</g>\r\n",
       "<!-- x1&#45;&gt;x4 -->\r\n",
       "<g id=\"edge17\" class=\"edge\"><title>x1&#45;&gt;x4</title>\r\n",
       "<path fill=\"none\" stroke=\"black\" stroke-dasharray=\"5,2\" d=\"M156.328,-287.849C159.735,-250.57 176.052,-161.938 187.429,-117.442\"/>\r\n",
       "<polygon fill=\"black\" stroke=\"black\" points=\"190.848,-118.206 190.061,-107.641 184.088,-116.391 190.848,-118.206\"/>\r\n",
       "</g>\r\n",
       "<!-- x1&#45;&gt;x5 -->\r\n",
       "<g id=\"edge22\" class=\"edge\"><title>x1&#45;&gt;x5</title>\r\n",
       "<path fill=\"none\" stroke=\"black\" stroke-dasharray=\"5,2\" d=\"M164.609,-288.433C180.56,-262.863 216.348,-213.755 239.712,-185.158\"/>\r\n",
       "<polygon fill=\"black\" stroke=\"black\" points=\"242.521,-187.254 246.236,-177.331 237.145,-182.771 242.521,-187.254\"/>\r\n",
       "</g>\r\n",
       "<!-- x2&#45;&gt;x1 -->\r\n",
       "<g id=\"edge2\" class=\"edge\"><title>x2&#45;&gt;x1</title>\r\n",
       "<path fill=\"none\" stroke=\"black\" stroke-dasharray=\"5,2\" d=\"M245.556,-249.126C229.931,-260.672 205.758,-276.993 186.52,-289.016\"/>\r\n",
       "<polygon fill=\"black\" stroke=\"black\" points=\"184.494,-286.153 177.805,-294.369 188.158,-292.118 184.494,-286.153\"/>\r\n",
       "</g>\r\n",
       "<!-- x2&#45;&gt;x3 -->\r\n",
       "<g id=\"edge13\" class=\"edge\"><title>x2&#45;&gt;x3</title>\r\n",
       "<path fill=\"none\" stroke=\"black\" stroke-dasharray=\"5,2\" d=\"M268.308,-216.243C275.095,-206.445 283.881,-193.396 288,-180 292.703,-164.707 291.501,-159.612 288,-144 280.257,-109.469 275.912,-99.7889 254,-72 244.356,-59.7697 231.385,-48.5821 220.134,-39.6701\"/>\r\n",
       "<polygon fill=\"black\" stroke=\"black\" points=\"221.995,-36.6839 211.948,-33.3189 217.703,-42.2144 221.995,-36.6839\"/>\r\n",
       "</g>\r\n",
       "<!-- x2&#45;&gt;x4 -->\r\n",
       "<g id=\"edge18\" class=\"edge\"><title>x2&#45;&gt;x4</title>\r\n",
       "<path fill=\"none\" stroke=\"black\" stroke-dasharray=\"5,2\" d=\"M243.36,-220.15C233.789,-209.801 223.075,-194.618 216,-180 206.372,-160.105 199.052,-136.133 195.679,-118.083\"/>\r\n",
       "<polygon fill=\"black\" stroke=\"black\" points=\"199.102,-117.314 194.132,-107.957 192.183,-118.371 199.102,-117.314\"/>\r\n",
       "</g>\r\n",
       "<!-- x2&#45;&gt;x5 -->\r\n",
       "<g id=\"edge23\" class=\"edge\"><title>x2&#45;&gt;x5</title>\r\n",
       "<path fill=\"none\" stroke=\"black\" stroke-dasharray=\"5,2\" d=\"M255.16,-216.411C254.297,-208.507 254.048,-198.852 254.412,-189.935\"/>\r\n",
       "<polygon fill=\"black\" stroke=\"black\" points=\"257.903,-190.179 255.121,-179.956 250.921,-189.683 257.903,-190.179\"/>\r\n",
       "</g>\r\n",
       "<!-- x3&#45;&gt;x1 -->\r\n",
       "<g id=\"edge3\" class=\"edge\"><title>x3&#45;&gt;x1</title>\r\n",
       "<path fill=\"none\" stroke=\"black\" stroke-dasharray=\"5,2\" d=\"M189.781,-35.7851C183.021,-45.5916 174.234,-58.6396 170,-72 147.36,-143.436 155.388,-233.477 158.148,-277.802\"/>\r\n",
       "<polygon fill=\"black\" stroke=\"black\" points=\"154.654,-278.007 158.703,-287.798 161.643,-277.619 154.654,-278.007\"/>\r\n",
       "</g>\r\n",
       "<!-- x3&#45;&gt;x2 -->\r\n",
       "<g id=\"edge8\" class=\"edge\"><title>x3&#45;&gt;x2</title>\r\n",
       "<path fill=\"none\" stroke=\"black\" stroke-dasharray=\"5,2\" d=\"M219.174,-28.3384C235.852,-37.8518 257.623,-53.7673 272,-72 293.912,-99.7889 298.257,-109.469 306,-144 309.501,-159.612 310.703,-164.707 306,-180 302.308,-192.006 294.869,-203.732 286.934,-213.09\"/>\r\n",
       "<polygon fill=\"black\" stroke=\"black\" points=\"284.153,-210.941 279.915,-220.651 289.283,-215.703 284.153,-210.941\"/>\r\n",
       "</g>\r\n",
       "<!-- x3&#45;&gt;x4 -->\r\n",
       "<g id=\"edge19\" class=\"edge\"><title>x3&#45;&gt;x4</title>\r\n",
       "<path fill=\"none\" stroke=\"black\" stroke-dasharray=\"5,2\" d=\"M202.879,-35.9562C203.714,-43.8272 203.948,-53.3739 203.583,-62.1869\"/>\r\n",
       "<polygon fill=\"black\" stroke=\"black\" points=\"200.074,-62.1835 202.84,-72.411 207.056,-62.6911 200.074,-62.1835\"/>\r\n",
       "</g>\r\n",
       "<!-- x3&#45;&gt;x5 -->\r\n",
       "<g id=\"edge24\" class=\"edge\"><title>x3&#45;&gt;x5</title>\r\n",
       "<path fill=\"none\" stroke=\"black\" stroke-dasharray=\"5,2\" d=\"M214.64,-31.8501C224.211,-42.199 234.925,-57.3819 242,-72 251.628,-91.8953 258.948,-115.867 262.321,-133.917\"/>\r\n",
       "<polygon fill=\"black\" stroke=\"black\" points=\"258.898,-134.686 263.868,-144.043 265.817,-133.629 258.898,-134.686\"/>\r\n",
       "</g>\r\n",
       "<!-- x4&#45;&gt;x1 -->\r\n",
       "<g id=\"edge4\" class=\"edge\"><title>x4&#45;&gt;x1</title>\r\n",
       "<path fill=\"none\" stroke=\"black\" stroke-dasharray=\"5,2\" d=\"M197.678,-108.085C194.278,-145.389 177.9,-234.332 166.514,-278.78\"/>\r\n",
       "<polygon fill=\"black\" stroke=\"black\" points=\"163.1,-277.997 163.881,-288.563 169.859,-279.816 163.1,-277.997\"/>\r\n",
       "</g>\r\n",
       "<!-- x4&#45;&gt;x2 -->\r\n",
       "<g id=\"edge9\" class=\"edge\"><title>x4&#45;&gt;x2</title>\r\n",
       "<path fill=\"none\" stroke=\"black\" stroke-dasharray=\"5,2\" d=\"M207.028,-106.963C213.891,-125.196 222.216,-155.651 234,-180 238.555,-189.412 244.618,-199.057 250.023,-207.496\"/>\r\n",
       "<polygon fill=\"black\" stroke=\"black\" points=\"247.194,-209.569 255.527,-216.112 253.093,-205.8 247.194,-209.569\"/>\r\n",
       "</g>\r\n",
       "<!-- x4&#45;&gt;x3 -->\r\n",
       "<g id=\"edge14\" class=\"edge\"><title>x4&#45;&gt;x3</title>\r\n",
       "<path fill=\"none\" stroke=\"black\" stroke-dasharray=\"5,2\" d=\"M191.16,-72.411C190.297,-64.507 190.048,-54.8518 190.412,-45.9352\"/>\r\n",
       "<polygon fill=\"black\" stroke=\"black\" points=\"193.903,-46.1791 191.121,-35.9562 186.921,-45.6831 193.903,-46.1791\"/>\r\n",
       "</g>\r\n",
       "<!-- x4&#45;&gt;x5 -->\r\n",
       "<g id=\"edge25\" class=\"edge\"><title>x4&#45;&gt;x5</title>\r\n",
       "<path fill=\"none\" stroke=\"black\" stroke-dasharray=\"5,2\" d=\"M214.623,-104.331C224.297,-113.498 236.007,-125.934 245.348,-136.821\"/>\r\n",
       "<polygon fill=\"black\" stroke=\"black\" points=\"242.871,-139.316 251.957,-144.765 248.252,-134.839 242.871,-139.316\"/>\r\n",
       "</g>\r\n",
       "<!-- x5&#45;&gt;x1 -->\r\n",
       "<g id=\"edge5\" class=\"edge\"><title>x5&#45;&gt;x1</title>\r\n",
       "<path fill=\"none\" stroke=\"black\" stroke-dasharray=\"5,2\" d=\"M253.361,-179.615C237.408,-205.178 201.693,-254.187 178.342,-282.776\"/>\r\n",
       "<polygon fill=\"black\" stroke=\"black\" points=\"175.533,-280.68 171.82,-290.603 180.911,-285.161 175.533,-280.68\"/>\r\n",
       "</g>\r\n",
       "<!-- x5&#45;&gt;x2 -->\r\n",
       "<g id=\"edge10\" class=\"edge\"><title>x5&#45;&gt;x2</title>\r\n",
       "<path fill=\"none\" stroke=\"black\" stroke-dasharray=\"5,2\" d=\"M266.879,-179.956C267.714,-187.827 267.948,-197.374 267.583,-206.187\"/>\r\n",
       "<polygon fill=\"black\" stroke=\"black\" points=\"264.074,-206.184 266.84,-216.411 271.056,-206.691 264.074,-206.184\"/>\r\n",
       "</g>\r\n",
       "<!-- x5&#45;&gt;x3 -->\r\n",
       "<g id=\"edge15\" class=\"edge\"><title>x5&#45;&gt;x3</title>\r\n",
       "<path fill=\"none\" stroke=\"black\" stroke-dasharray=\"5,2\" d=\"M250.972,-145.037C244.109,-126.804 235.784,-96.3491 224,-72 219.445,-62.5883 213.382,-52.9425 207.977,-44.5035\"/>\r\n",
       "<polygon fill=\"black\" stroke=\"black\" points=\"210.806,-42.4312 202.473,-35.8881 204.907,-46.1996 210.806,-42.4312\"/>\r\n",
       "</g>\r\n",
       "<!-- x5&#45;&gt;x4 -->\r\n",
       "<g id=\"edge20\" class=\"edge\"><title>x5&#45;&gt;x4</title>\r\n",
       "<path fill=\"none\" stroke=\"black\" stroke-dasharray=\"5,2\" d=\"M243.551,-147.834C233.809,-138.618 221.964,-126.041 212.55,-115.06\"/>\r\n",
       "<polygon fill=\"black\" stroke=\"black\" points=\"214.983,-112.511 205.9,-107.057 209.599,-116.985 214.983,-112.511\"/>\r\n",
       "</g>\r\n",
       "</g>\r\n",
       "</svg>\r\n"
      ],
      "text/plain": [
       "<graphviz.dot.Digraph at 0x1f5be964f28>"
      ]
     },
     "execution_count": 5,
     "metadata": {},
     "output_type": "execute_result"
    }
   ],
   "source": [
    "prior_knowledge = make_prior_knowledge(\n",
    "    n_variables=6,\n",
    "    exogenous_variables=[0])\n",
    "print(prior_knowledge)\n",
    "make_prior_knowledge_graph(prior_knowledge)"
   ]
  },
  {
   "cell_type": "markdown",
   "metadata": {},
   "source": [
    "## Causal Discovery\n",
    "To run causal discovery, we create a `DirectLiNGAM` object and call the `fit` method."
   ]
  },
  {
   "cell_type": "code",
   "execution_count": 6,
   "metadata": {
    "ExecuteTime": {
     "end_time": "2019-12-12T06:27:50.531152Z",
     "start_time": "2019-12-12T06:27:50.383201Z"
    }
   },
   "outputs": [
    {
     "data": {
      "text/plain": [
       "<lingam.direct_lingam.DirectLiNGAM at 0x1f5be964c50>"
      ]
     },
     "execution_count": 6,
     "metadata": {},
     "output_type": "execute_result"
    }
   ],
   "source": [
    "model = lingam.DirectLiNGAM(prior_knowledge=prior_knowledge)\n",
    "model.fit(X)"
   ]
  },
  {
   "cell_type": "markdown",
   "metadata": {},
   "source": [
    "Using the `causal_order_` properties, we can see the causal ordering as a result of the causal discovery."
   ]
  },
  {
   "cell_type": "code",
   "execution_count": 7,
   "metadata": {
    "ExecuteTime": {
     "end_time": "2019-12-12T06:27:50.555959Z",
     "start_time": "2019-12-12T06:27:50.535142Z"
    }
   },
   "outputs": [
    {
     "data": {
      "text/plain": [
       "[0, 5, 3, 2, 1, 4]"
      ]
     },
     "execution_count": 7,
     "metadata": {},
     "output_type": "execute_result"
    }
   ],
   "source": [
    "model.causal_order_"
   ]
  },
  {
   "cell_type": "markdown",
   "metadata": {
    "ExecuteTime": {
     "end_time": "2019-09-09T01:24:30.429100Z",
     "start_time": "2019-09-09T01:24:30.422118Z"
    }
   },
   "source": [
    "Also, using the `adjacency_matrix_` properties, we can see the adjacency matrix as a result of the causal discovery."
   ]
  },
  {
   "cell_type": "code",
   "execution_count": 8,
   "metadata": {
    "ExecuteTime": {
     "end_time": "2019-12-12T06:27:50.568925Z",
     "start_time": "2019-12-12T06:27:50.559949Z"
    }
   },
   "outputs": [
    {
     "name": "stdout",
     "output_type": "stream",
     "text": [
      "[[ 0.     0.     0.     0.     0.     0.   ]\n",
      " [ 3.002  0.     1.996  0.     0.     0.   ]\n",
      " [ 0.     0.     0.     6.001  0.     0.   ]\n",
      " [ 0.299  0.     0.     0.     0.     0.   ]\n",
      " [ 7.978  0.    -0.988  0.     0.     0.   ]\n",
      " [ 3.998  0.     0.     0.     0.     0.   ]]\n"
     ]
    }
   ],
   "source": [
    "print(model.adjacency_matrix_)"
   ]
  },
  {
   "cell_type": "markdown",
   "metadata": {},
   "source": [
    "We can draw a causal graph by utility funciton."
   ]
  },
  {
   "cell_type": "code",
   "execution_count": 9,
   "metadata": {
    "ExecuteTime": {
     "end_time": "2019-12-12T06:27:51.009585Z",
     "start_time": "2019-12-12T06:27:50.572914Z"
    }
   },
   "outputs": [
    {
     "data": {
      "image/svg+xml": [
       "<?xml version=\"1.0\" encoding=\"UTF-8\" standalone=\"no\"?>\r\n",
       "<!DOCTYPE svg PUBLIC \"-//W3C//DTD SVG 1.1//EN\"\r\n",
       " \"http://www.w3.org/Graphics/SVG/1.1/DTD/svg11.dtd\">\r\n",
       "<!-- Generated by graphviz version 2.38.0 (20140413.2041)\r\n",
       " -->\r\n",
       "<!-- Title: %3 Pages: 1 -->\r\n",
       "<svg width=\"223pt\" height=\"305pt\"\r\n",
       " viewBox=\"0.00 0.00 223.00 305.00\" xmlns=\"http://www.w3.org/2000/svg\" xmlns:xlink=\"http://www.w3.org/1999/xlink\">\r\n",
       "<g id=\"graph0\" class=\"graph\" transform=\"scale(1 1) rotate(0) translate(4 301)\">\r\n",
       "<title>%3</title>\r\n",
       "<polygon fill=\"white\" stroke=\"none\" points=\"-4,4 -4,-301 219,-301 219,4 -4,4\"/>\r\n",
       "<!-- x0 -->\r\n",
       "<g id=\"node1\" class=\"node\"><title>x0</title>\r\n",
       "<ellipse fill=\"none\" stroke=\"black\" cx=\"112\" cy=\"-279\" rx=\"27\" ry=\"18\"/>\r\n",
       "<text text-anchor=\"middle\" x=\"112\" y=\"-275.3\" font-family=\"Times New Roman,serif\" font-size=\"14.00\">x0</text>\r\n",
       "</g>\r\n",
       "<!-- x1 -->\r\n",
       "<g id=\"node2\" class=\"node\"><title>x1</title>\r\n",
       "<ellipse fill=\"none\" stroke=\"black\" cx=\"27\" cy=\"-18\" rx=\"27\" ry=\"18\"/>\r\n",
       "<text text-anchor=\"middle\" x=\"27\" y=\"-14.3\" font-family=\"Times New Roman,serif\" font-size=\"14.00\">x1</text>\r\n",
       "</g>\r\n",
       "<!-- x0&#45;&gt;x1 -->\r\n",
       "<g id=\"edge1\" class=\"edge\"><title>x0&#45;&gt;x1</title>\r\n",
       "<path fill=\"none\" stroke=\"black\" d=\"M93.1237,-265.698C76.4715,-253.684 53.1652,-233.77 42,-210 16.8375,-156.431 19.4073,-85.0554 23.3143,-46.5063\"/>\r\n",
       "<polygon fill=\"black\" stroke=\"black\" points=\"26.8452,-46.4274 24.4851,-36.0988 19.8891,-45.6449 26.8452,-46.4274\"/>\r\n",
       "<text text-anchor=\"middle\" x=\"38.5\" y=\"-144.8\" font-family=\"Times New Roman,serif\" font-size=\"14.00\">3.00</text>\r\n",
       "</g>\r\n",
       "<!-- x3 -->\r\n",
       "<g id=\"node4\" class=\"node\"><title>x3</title>\r\n",
       "<ellipse fill=\"none\" stroke=\"black\" cx=\"78\" cy=\"-192\" rx=\"27\" ry=\"18\"/>\r\n",
       "<text text-anchor=\"middle\" x=\"78\" y=\"-188.3\" font-family=\"Times New Roman,serif\" font-size=\"14.00\">x3</text>\r\n",
       "</g>\r\n",
       "<!-- x0&#45;&gt;x3 -->\r\n",
       "<g id=\"edge4\" class=\"edge\"><title>x0&#45;&gt;x3</title>\r\n",
       "<path fill=\"none\" stroke=\"black\" d=\"M103.005,-261.883C99.9308,-256.035 96.6127,-249.314 94,-243 90.8984,-235.505 88.0195,-227.178 85.5834,-219.503\"/>\r\n",
       "<polygon fill=\"black\" stroke=\"black\" points=\"88.9233,-218.456 82.6544,-209.915 82.2287,-220.502 88.9233,-218.456\"/>\r\n",
       "<text text-anchor=\"middle\" x=\"106.5\" y=\"-231.8\" font-family=\"Times New Roman,serif\" font-size=\"14.00\">0.30</text>\r\n",
       "</g>\r\n",
       "<!-- x4 -->\r\n",
       "<g id=\"node5\" class=\"node\"><title>x4</title>\r\n",
       "<ellipse fill=\"none\" stroke=\"black\" cx=\"103\" cy=\"-18\" rx=\"27\" ry=\"18\"/>\r\n",
       "<text text-anchor=\"middle\" x=\"103\" y=\"-14.3\" font-family=\"Times New Roman,serif\" font-size=\"14.00\">x4</text>\r\n",
       "</g>\r\n",
       "<!-- x0&#45;&gt;x4 -->\r\n",
       "<g id=\"edge5\" class=\"edge\"><title>x0&#45;&gt;x4</title>\r\n",
       "<path fill=\"none\" stroke=\"black\" d=\"M116.098,-261.012C117.283,-255.322 118.414,-248.92 119,-243 127.277,-159.409 136.871,-136.077 119,-54 118.325,-50.9011 117.351,-47.7481 116.211,-44.6675\"/>\r\n",
       "<polygon fill=\"black\" stroke=\"black\" points=\"119.323,-43.0438 112.169,-35.2287 112.888,-45.7991 119.323,-43.0438\"/>\r\n",
       "<text text-anchor=\"middle\" x=\"141.5\" y=\"-144.8\" font-family=\"Times New Roman,serif\" font-size=\"14.00\">7.98</text>\r\n",
       "</g>\r\n",
       "<!-- x5 -->\r\n",
       "<g id=\"node6\" class=\"node\"><title>x5</title>\r\n",
       "<ellipse fill=\"none\" stroke=\"black\" cx=\"188\" cy=\"-192\" rx=\"27\" ry=\"18\"/>\r\n",
       "<text text-anchor=\"middle\" x=\"188\" y=\"-188.3\" font-family=\"Times New Roman,serif\" font-size=\"14.00\">x5</text>\r\n",
       "</g>\r\n",
       "<!-- x0&#45;&gt;x5 -->\r\n",
       "<g id=\"edge7\" class=\"edge\"><title>x0&#45;&gt;x5</title>\r\n",
       "<path fill=\"none\" stroke=\"black\" d=\"M126.974,-263.668C133.299,-257.452 140.653,-250.005 147,-243 154.768,-234.426 162.926,-224.652 169.902,-216.033\"/>\r\n",
       "<polygon fill=\"black\" stroke=\"black\" points=\"172.656,-218.194 176.176,-208.201 167.192,-213.817 172.656,-218.194\"/>\r\n",
       "<text text-anchor=\"middle\" x=\"171.5\" y=\"-231.8\" font-family=\"Times New Roman,serif\" font-size=\"14.00\">4.00</text>\r\n",
       "</g>\r\n",
       "<!-- x2 -->\r\n",
       "<g id=\"node3\" class=\"node\"><title>x2</title>\r\n",
       "<ellipse fill=\"none\" stroke=\"black\" cx=\"78\" cy=\"-105\" rx=\"27\" ry=\"18\"/>\r\n",
       "<text text-anchor=\"middle\" x=\"78\" y=\"-101.3\" font-family=\"Times New Roman,serif\" font-size=\"14.00\">x2</text>\r\n",
       "</g>\r\n",
       "<!-- x2&#45;&gt;x1 -->\r\n",
       "<g id=\"edge2\" class=\"edge\"><title>x2&#45;&gt;x1</title>\r\n",
       "<path fill=\"none\" stroke=\"black\" d=\"M67.8036,-88.0441C64.0463,-82.0954 59.785,-75.2662 56,-69 51.1521,-60.9741 45.9798,-52.146 41.3657,-44.1706\"/>\r\n",
       "<polygon fill=\"black\" stroke=\"black\" points=\"44.2809,-42.2192 36.2584,-35.2989 38.2143,-45.7116 44.2809,-42.2192\"/>\r\n",
       "<text text-anchor=\"middle\" x=\"68.5\" y=\"-57.8\" font-family=\"Times New Roman,serif\" font-size=\"14.00\">2.00</text>\r\n",
       "</g>\r\n",
       "<!-- x2&#45;&gt;x4 -->\r\n",
       "<g id=\"edge6\" class=\"edge\"><title>x2&#45;&gt;x4</title>\r\n",
       "<path fill=\"none\" stroke=\"black\" d=\"M81.6058,-86.7385C83.7652,-77.0408 86.7234,-64.7603 90,-54 90.8674,-51.1515 91.8421,-48.1982 92.8577,-45.2696\"/>\r\n",
       "<polygon fill=\"black\" stroke=\"black\" points=\"96.2473,-46.1894 96.3713,-35.5953 89.6678,-43.7997 96.2473,-46.1894\"/>\r\n",
       "<text text-anchor=\"middle\" x=\"104.5\" y=\"-57.8\" font-family=\"Times New Roman,serif\" font-size=\"14.00\">&#45;0.99</text>\r\n",
       "</g>\r\n",
       "<!-- x3&#45;&gt;x2 -->\r\n",
       "<g id=\"edge3\" class=\"edge\"><title>x3&#45;&gt;x2</title>\r\n",
       "<path fill=\"none\" stroke=\"black\" d=\"M78,-173.799C78,-162.163 78,-146.548 78,-133.237\"/>\r\n",
       "<polygon fill=\"black\" stroke=\"black\" points=\"81.5001,-133.175 78,-123.175 74.5001,-133.175 81.5001,-133.175\"/>\r\n",
       "<text text-anchor=\"middle\" x=\"90.5\" y=\"-144.8\" font-family=\"Times New Roman,serif\" font-size=\"14.00\">6.00</text>\r\n",
       "</g>\r\n",
       "</g>\r\n",
       "</svg>\r\n"
      ],
      "text/plain": [
       "<graphviz.dot.Digraph at 0x1f5c26e0c18>"
      ]
     },
     "execution_count": 9,
     "metadata": {},
     "output_type": "execute_result"
    }
   ],
   "source": [
    "make_dot(model.adjacency_matrix_)"
   ]
  },
  {
   "cell_type": "code",
   "execution_count": null,
   "metadata": {},
   "outputs": [],
   "source": []
  }
 ],
 "metadata": {
  "kernelspec": {
   "display_name": "Python 3",
   "language": "python",
   "name": "python3"
  },
  "language_info": {
   "codemirror_mode": {
    "name": "ipython",
    "version": 3
   },
   "file_extension": ".py",
   "mimetype": "text/x-python",
   "name": "python",
   "nbconvert_exporter": "python",
   "pygments_lexer": "ipython3",
   "version": "3.7.3"
  },
  "toc": {
   "base_numbering": 1,
   "nav_menu": {},
   "number_sections": true,
   "sideBar": true,
   "skip_h1_title": false,
   "title_cell": "Table of Contents",
   "title_sidebar": "Contents",
   "toc_cell": false,
   "toc_position": {},
   "toc_section_display": true,
   "toc_window_display": false
  }
 },
 "nbformat": 4,
 "nbformat_minor": 2
}
