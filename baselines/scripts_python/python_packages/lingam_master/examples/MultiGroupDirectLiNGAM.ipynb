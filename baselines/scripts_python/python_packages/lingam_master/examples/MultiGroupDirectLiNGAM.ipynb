{
 "cells": [
  {
   "cell_type": "markdown",
   "metadata": {},
   "source": [
    "# MultiGroupDirectLiNGAM"
   ]
  },
  {
   "cell_type": "markdown",
   "metadata": {},
   "source": [
    "## Import and settings\n",
    "In this example, we need to import `numpy`, `pandas`, and `graphviz` in addition to `lingam`."
   ]
  },
  {
   "cell_type": "code",
   "execution_count": 1,
   "metadata": {
    "ExecuteTime": {
     "end_time": "2019-12-12T06:43:51.800252Z",
     "start_time": "2019-12-12T06:43:50.378983Z"
    }
   },
   "outputs": [
    {
     "name": "stdout",
     "output_type": "stream",
     "text": [
      "['1.16.2', '0.24.2', '0.11.1', '1.3.1']\n"
     ]
    }
   ],
   "source": [
    "import numpy as np\n",
    "import pandas as pd\n",
    "import graphviz\n",
    "import lingam\n",
    "from lingam.utils import print_causal_directions, print_dagc, make_dot\n",
    "\n",
    "print([np.__version__, pd.__version__, graphviz.__version__, lingam.__version__])\n",
    "\n",
    "np.set_printoptions(precision=3, suppress=True)\n",
    "np.random.seed(0)"
   ]
  },
  {
   "cell_type": "markdown",
   "metadata": {},
   "source": [
    "## Test data\n",
    "We generate two datasets consisting of 6 variables."
   ]
  },
  {
   "cell_type": "code",
   "execution_count": 2,
   "metadata": {
    "ExecuteTime": {
     "end_time": "2019-12-12T06:43:51.860093Z",
     "start_time": "2019-12-12T06:43:51.814217Z"
    }
   },
   "outputs": [
    {
     "data": {
      "text/html": [
       "<div>\n",
       "<style scoped>\n",
       "    .dataframe tbody tr th:only-of-type {\n",
       "        vertical-align: middle;\n",
       "    }\n",
       "\n",
       "    .dataframe tbody tr th {\n",
       "        vertical-align: top;\n",
       "    }\n",
       "\n",
       "    .dataframe thead th {\n",
       "        text-align: right;\n",
       "    }\n",
       "</style>\n",
       "<table border=\"1\" class=\"dataframe\">\n",
       "  <thead>\n",
       "    <tr style=\"text-align: right;\">\n",
       "      <th></th>\n",
       "      <th>x0</th>\n",
       "      <th>x1</th>\n",
       "      <th>x2</th>\n",
       "      <th>x3</th>\n",
       "      <th>x4</th>\n",
       "      <th>x5</th>\n",
       "    </tr>\n",
       "  </thead>\n",
       "  <tbody>\n",
       "    <tr>\n",
       "      <th>0</th>\n",
       "      <td>2.394708</td>\n",
       "      <td>15.312359</td>\n",
       "      <td>3.685054</td>\n",
       "      <td>0.548814</td>\n",
       "      <td>15.780259</td>\n",
       "      <td>9.948090</td>\n",
       "    </tr>\n",
       "    <tr>\n",
       "      <th>1</th>\n",
       "      <td>2.325771</td>\n",
       "      <td>16.145216</td>\n",
       "      <td>4.332293</td>\n",
       "      <td>0.715189</td>\n",
       "      <td>14.335879</td>\n",
       "      <td>9.514409</td>\n",
       "    </tr>\n",
       "    <tr>\n",
       "      <th>2</th>\n",
       "      <td>2.197313</td>\n",
       "      <td>15.848718</td>\n",
       "      <td>4.539881</td>\n",
       "      <td>0.602763</td>\n",
       "      <td>14.027410</td>\n",
       "      <td>9.266158</td>\n",
       "    </tr>\n",
       "    <tr>\n",
       "      <th>3</th>\n",
       "      <td>1.672250</td>\n",
       "      <td>13.200354</td>\n",
       "      <td>3.675534</td>\n",
       "      <td>0.544883</td>\n",
       "      <td>10.421554</td>\n",
       "      <td>6.771233</td>\n",
       "    </tr>\n",
       "    <tr>\n",
       "      <th>4</th>\n",
       "      <td>1.282752</td>\n",
       "      <td>11.337503</td>\n",
       "      <td>3.486211</td>\n",
       "      <td>0.423655</td>\n",
       "      <td>7.533376</td>\n",
       "      <td>5.368668</td>\n",
       "    </tr>\n",
       "  </tbody>\n",
       "</table>\n",
       "</div>"
      ],
      "text/plain": [
       "         x0         x1        x2        x3         x4        x5\n",
       "0  2.394708  15.312359  3.685054  0.548814  15.780259  9.948090\n",
       "1  2.325771  16.145216  4.332293  0.715189  14.335879  9.514409\n",
       "2  2.197313  15.848718  4.539881  0.602763  14.027410  9.266158\n",
       "3  1.672250  13.200354  3.675534  0.544883  10.421554  6.771233\n",
       "4  1.282752  11.337503  3.486211  0.423655   7.533376  5.368668"
      ]
     },
     "execution_count": 2,
     "metadata": {},
     "output_type": "execute_result"
    }
   ],
   "source": [
    "x3 = np.random.uniform(size=10000)\n",
    "x0 = 3.0*x3 + np.random.uniform(size=10000)\n",
    "x2 = 6.0*x3 + np.random.uniform(size=10000)\n",
    "x1 = 3.0*x0 + 2.0*x2 + np.random.uniform(size=10000)\n",
    "x5 = 4.0*x0 + np.random.uniform(size=10000)\n",
    "x4 = 8.0*x0 - 1.0*x2 + np.random.uniform(size=10000)\n",
    "X1 = pd.DataFrame(np.array([x0, x1, x2, x3, x4, x5]).T ,columns=['x0', 'x1', 'x2', 'x3', 'x4', 'x5'])\n",
    "X1.head()"
   ]
  },
  {
   "cell_type": "code",
   "execution_count": 3,
   "metadata": {
    "ExecuteTime": {
     "end_time": "2019-12-12T06:43:52.146362Z",
     "start_time": "2019-12-12T06:43:51.863086Z"
    }
   },
   "outputs": [
    {
     "data": {
      "image/svg+xml": [
       "<?xml version=\"1.0\" encoding=\"UTF-8\" standalone=\"no\"?>\r\n",
       "<!DOCTYPE svg PUBLIC \"-//W3C//DTD SVG 1.1//EN\"\r\n",
       " \"http://www.w3.org/Graphics/SVG/1.1/DTD/svg11.dtd\">\r\n",
       "<!-- Generated by graphviz version 2.38.0 (20140413.2041)\r\n",
       " -->\r\n",
       "<!-- Title: %3 Pages: 1 -->\r\n",
       "<svg width=\"245pt\" height=\"218pt\"\r\n",
       " viewBox=\"0.00 0.00 245.00 218.00\" xmlns=\"http://www.w3.org/2000/svg\" xmlns:xlink=\"http://www.w3.org/1999/xlink\">\r\n",
       "<g id=\"graph0\" class=\"graph\" transform=\"scale(1 1) rotate(0) translate(4 214)\">\r\n",
       "<title>%3</title>\r\n",
       "<polygon fill=\"white\" stroke=\"none\" points=\"-4,4 -4,-214 241,-214 241,4 -4,4\"/>\r\n",
       "<!-- x0 -->\r\n",
       "<g id=\"node1\" class=\"node\"><title>x0</title>\r\n",
       "<ellipse fill=\"none\" stroke=\"black\" cx=\"150\" cy=\"-105\" rx=\"27\" ry=\"18\"/>\r\n",
       "<text text-anchor=\"middle\" x=\"150\" y=\"-101.3\" font-family=\"Times New Roman,serif\" font-size=\"14.00\">x0</text>\r\n",
       "</g>\r\n",
       "<!-- x1 -->\r\n",
       "<g id=\"node2\" class=\"node\"><title>x1</title>\r\n",
       "<ellipse fill=\"none\" stroke=\"black\" cx=\"125\" cy=\"-18\" rx=\"27\" ry=\"18\"/>\r\n",
       "<text text-anchor=\"middle\" x=\"125\" y=\"-14.3\" font-family=\"Times New Roman,serif\" font-size=\"14.00\">x1</text>\r\n",
       "</g>\r\n",
       "<!-- x0&#45;&gt;x1 -->\r\n",
       "<g id=\"edge2\" class=\"edge\"><title>x0&#45;&gt;x1</title>\r\n",
       "<path fill=\"none\" stroke=\"black\" d=\"M147.442,-86.6548C145.783,-76.931 143.308,-64.6521 140,-54 139.069,-51.0031 137.968,-47.9142 136.791,-44.8705\"/>\r\n",
       "<polygon fill=\"black\" stroke=\"black\" points=\"139.956,-43.3657 132.892,-35.4693 133.49,-46.0472 139.956,-43.3657\"/>\r\n",
       "<text text-anchor=\"middle\" x=\"155.5\" y=\"-57.8\" font-family=\"Times New Roman,serif\" font-size=\"14.00\">3.00</text>\r\n",
       "</g>\r\n",
       "<!-- x4 -->\r\n",
       "<g id=\"node5\" class=\"node\"><title>x4</title>\r\n",
       "<ellipse fill=\"none\" stroke=\"black\" cx=\"27\" cy=\"-18\" rx=\"27\" ry=\"18\"/>\r\n",
       "<text text-anchor=\"middle\" x=\"27\" y=\"-14.3\" font-family=\"Times New Roman,serif\" font-size=\"14.00\">x4</text>\r\n",
       "</g>\r\n",
       "<!-- x0&#45;&gt;x4 -->\r\n",
       "<g id=\"edge5\" class=\"edge\"><title>x0&#45;&gt;x4</title>\r\n",
       "<path fill=\"none\" stroke=\"black\" d=\"M134.544,-90.005C120.464,-77.3813 100.597,-59.916 92,-54 81.194,-46.5643 68.6395,-39.4801 57.4616,-33.6547\"/>\r\n",
       "<polygon fill=\"black\" stroke=\"black\" points=\"58.9644,-30.4924 48.4645,-29.0773 55.7902,-36.7313 58.9644,-30.4924\"/>\r\n",
       "<text text-anchor=\"middle\" x=\"121.5\" y=\"-57.8\" font-family=\"Times New Roman,serif\" font-size=\"14.00\">8.00</text>\r\n",
       "</g>\r\n",
       "<!-- x5 -->\r\n",
       "<g id=\"node6\" class=\"node\"><title>x5</title>\r\n",
       "<ellipse fill=\"none\" stroke=\"black\" cx=\"210\" cy=\"-18\" rx=\"27\" ry=\"18\"/>\r\n",
       "<text text-anchor=\"middle\" x=\"210\" y=\"-14.3\" font-family=\"Times New Roman,serif\" font-size=\"14.00\">x5</text>\r\n",
       "</g>\r\n",
       "<!-- x0&#45;&gt;x5 -->\r\n",
       "<g id=\"edge7\" class=\"edge\"><title>x0&#45;&gt;x5</title>\r\n",
       "<path fill=\"none\" stroke=\"black\" d=\"M161.005,-88.4097C169.97,-75.709 182.78,-57.5615 193.053,-43.0079\"/>\r\n",
       "<polygon fill=\"black\" stroke=\"black\" points=\"196.157,-44.6796 199.065,-34.4915 190.439,-40.6428 196.157,-44.6796\"/>\r\n",
       "<text text-anchor=\"middle\" x=\"195.5\" y=\"-57.8\" font-family=\"Times New Roman,serif\" font-size=\"14.00\">4.00</text>\r\n",
       "</g>\r\n",
       "<!-- x2 -->\r\n",
       "<g id=\"node3\" class=\"node\"><title>x2</title>\r\n",
       "<ellipse fill=\"none\" stroke=\"black\" cx=\"66\" cy=\"-105\" rx=\"27\" ry=\"18\"/>\r\n",
       "<text text-anchor=\"middle\" x=\"66\" y=\"-101.3\" font-family=\"Times New Roman,serif\" font-size=\"14.00\">x2</text>\r\n",
       "</g>\r\n",
       "<!-- x2&#45;&gt;x1 -->\r\n",
       "<g id=\"edge3\" class=\"edge\"><title>x2&#45;&gt;x1</title>\r\n",
       "<path fill=\"none\" stroke=\"black\" d=\"M62.441,-87.1561C61.1798,-76.9067 61.2665,-63.9233 67,-54 72.721,-44.0984 82.4634,-36.6692 92.347,-31.2627\"/>\r\n",
       "<polygon fill=\"black\" stroke=\"black\" points=\"93.9103,-34.3944 101.352,-26.8534 90.8319,-28.1076 93.9103,-34.3944\"/>\r\n",
       "<text text-anchor=\"middle\" x=\"79.5\" y=\"-57.8\" font-family=\"Times New Roman,serif\" font-size=\"14.00\">2.00</text>\r\n",
       "</g>\r\n",
       "<!-- x2&#45;&gt;x4 -->\r\n",
       "<g id=\"edge6\" class=\"edge\"><title>x2&#45;&gt;x4</title>\r\n",
       "<path fill=\"none\" stroke=\"black\" d=\"M43.7256,-94.7988C32.9729,-89.0846 21.1041,-80.5923 15,-69 11.0376,-61.4751 11.6861,-52.6266 14.0624,-44.4816\"/>\r\n",
       "<polygon fill=\"black\" stroke=\"black\" points=\"17.3723,-45.6237 17.6242,-35.0319 10.8221,-43.1548 17.3723,-45.6237\"/>\r\n",
       "<text text-anchor=\"middle\" x=\"29.5\" y=\"-57.8\" font-family=\"Times New Roman,serif\" font-size=\"14.00\">&#45;1.00</text>\r\n",
       "</g>\r\n",
       "<!-- x3 -->\r\n",
       "<g id=\"node4\" class=\"node\"><title>x3</title>\r\n",
       "<ellipse fill=\"none\" stroke=\"black\" cx=\"112\" cy=\"-192\" rx=\"27\" ry=\"18\"/>\r\n",
       "<text text-anchor=\"middle\" x=\"112\" y=\"-188.3\" font-family=\"Times New Roman,serif\" font-size=\"14.00\">x3</text>\r\n",
       "</g>\r\n",
       "<!-- x3&#45;&gt;x0 -->\r\n",
       "<g id=\"edge1\" class=\"edge\"><title>x3&#45;&gt;x0</title>\r\n",
       "<path fill=\"none\" stroke=\"black\" d=\"M119.327,-174.611C124.741,-162.499 132.221,-145.768 138.439,-131.86\"/>\r\n",
       "<polygon fill=\"black\" stroke=\"black\" points=\"141.81,-132.896 142.696,-122.339 135.419,-130.039 141.81,-132.896\"/>\r\n",
       "<text text-anchor=\"middle\" x=\"145.5\" y=\"-144.8\" font-family=\"Times New Roman,serif\" font-size=\"14.00\">3.00</text>\r\n",
       "</g>\r\n",
       "<!-- x3&#45;&gt;x2 -->\r\n",
       "<g id=\"edge4\" class=\"edge\"><title>x3&#45;&gt;x2</title>\r\n",
       "<path fill=\"none\" stroke=\"black\" d=\"M103.131,-174.611C96.47,-162.303 87.2279,-145.226 79.6308,-131.187\"/>\r\n",
       "<polygon fill=\"black\" stroke=\"black\" points=\"82.5237,-129.179 74.686,-122.05 76.3674,-132.511 82.5237,-129.179\"/>\r\n",
       "<text text-anchor=\"middle\" x=\"103.5\" y=\"-144.8\" font-family=\"Times New Roman,serif\" font-size=\"14.00\">6.00</text>\r\n",
       "</g>\r\n",
       "</g>\r\n",
       "</svg>\r\n"
      ],
      "text/plain": [
       "<graphviz.dot.Digraph at 0x11b81b45668>"
      ]
     },
     "execution_count": 3,
     "metadata": {},
     "output_type": "execute_result"
    }
   ],
   "source": [
    "m = np.array([[0.0, 0.0, 0.0, 3.0, 0.0, 0.0],\n",
    "              [3.0, 0.0, 2.0, 0.0, 0.0, 0.0],\n",
    "              [0.0, 0.0, 0.0, 6.0, 0.0, 0.0],\n",
    "              [0.0, 0.0, 0.0, 0.0, 0.0, 0.0],\n",
    "              [8.0, 0.0,-1.0, 0.0, 0.0, 0.0],\n",
    "              [4.0, 0.0, 0.0, 0.0, 0.0, 0.0]])\n",
    "\n",
    "make_dot(m)"
   ]
  },
  {
   "cell_type": "code",
   "execution_count": 4,
   "metadata": {
    "ExecuteTime": {
     "end_time": "2019-12-12T06:43:52.168273Z",
     "start_time": "2019-12-12T06:43:52.148326Z"
    }
   },
   "outputs": [
    {
     "data": {
      "text/html": [
       "<div>\n",
       "<style scoped>\n",
       "    .dataframe tbody tr th:only-of-type {\n",
       "        vertical-align: middle;\n",
       "    }\n",
       "\n",
       "    .dataframe tbody tr th {\n",
       "        vertical-align: top;\n",
       "    }\n",
       "\n",
       "    .dataframe thead th {\n",
       "        text-align: right;\n",
       "    }\n",
       "</style>\n",
       "<table border=\"1\" class=\"dataframe\">\n",
       "  <thead>\n",
       "    <tr style=\"text-align: right;\">\n",
       "      <th></th>\n",
       "      <th>x0</th>\n",
       "      <th>x1</th>\n",
       "      <th>x2</th>\n",
       "      <th>x3</th>\n",
       "      <th>x4</th>\n",
       "      <th>x5</th>\n",
       "    </tr>\n",
       "  </thead>\n",
       "  <tbody>\n",
       "    <tr>\n",
       "      <th>0</th>\n",
       "      <td>3.848617</td>\n",
       "      <td>29.790327</td>\n",
       "      <td>6.151635</td>\n",
       "      <td>0.927955</td>\n",
       "      <td>23.683228</td>\n",
       "      <td>17.497765</td>\n",
       "    </tr>\n",
       "    <tr>\n",
       "      <th>1</th>\n",
       "      <td>3.765482</td>\n",
       "      <td>28.839731</td>\n",
       "      <td>5.981344</td>\n",
       "      <td>0.902937</td>\n",
       "      <td>23.362070</td>\n",
       "      <td>17.126491</td>\n",
       "    </tr>\n",
       "    <tr>\n",
       "      <th>2</th>\n",
       "      <td>1.613042</td>\n",
       "      <td>13.637872</td>\n",
       "      <td>2.930467</td>\n",
       "      <td>0.427617</td>\n",
       "      <td>9.871720</td>\n",
       "      <td>7.578267</td>\n",
       "    </tr>\n",
       "    <tr>\n",
       "      <th>3</th>\n",
       "      <td>1.838085</td>\n",
       "      <td>16.640591</td>\n",
       "      <td>3.715235</td>\n",
       "      <td>0.510806</td>\n",
       "      <td>10.427863</td>\n",
       "      <td>9.068131</td>\n",
       "    </tr>\n",
       "    <tr>\n",
       "      <th>4</th>\n",
       "      <td>2.321607</td>\n",
       "      <td>19.614986</td>\n",
       "      <td>4.540952</td>\n",
       "      <td>0.583200</td>\n",
       "      <td>13.276292</td>\n",
       "      <td>11.184535</td>\n",
       "    </tr>\n",
       "  </tbody>\n",
       "</table>\n",
       "</div>"
      ],
      "text/plain": [
       "         x0         x1        x2        x3         x4         x5\n",
       "0  3.848617  29.790327  6.151635  0.927955  23.683228  17.497765\n",
       "1  3.765482  28.839731  5.981344  0.902937  23.362070  17.126491\n",
       "2  1.613042  13.637872  2.930467  0.427617   9.871720   7.578267\n",
       "3  1.838085  16.640591  3.715235  0.510806  10.427863   9.068131\n",
       "4  2.321607  19.614986  4.540952  0.583200  13.276292  11.184535"
      ]
     },
     "execution_count": 4,
     "metadata": {},
     "output_type": "execute_result"
    }
   ],
   "source": [
    "x3 = np.random.uniform(size=1000)\n",
    "x0 = 3.5*x3 + np.random.uniform(size=1000)\n",
    "x2 = 6.5*x3 + np.random.uniform(size=1000)\n",
    "x1 = 3.5*x0 + 2.5*x2 + np.random.uniform(size=1000)\n",
    "x5 = 4.5*x0 + np.random.uniform(size=1000)\n",
    "x4 = 8.5*x0 - 1.5*x2 + np.random.uniform(size=1000)\n",
    "X2 = pd.DataFrame(np.array([x0, x1, x2, x3, x4, x5]).T ,columns=['x0', 'x1', 'x2', 'x3', 'x4', 'x5'])\n",
    "X2.head()"
   ]
  },
  {
   "cell_type": "code",
   "execution_count": null,
   "metadata": {
    "ExecuteTime": {
     "end_time": "2019-12-12T06:43:52.431942Z",
     "start_time": "2019-12-12T06:43:52.173266Z"
    }
   },
   "outputs": [
    {
     "data": {
      "image/svg+xml": [
       "<?xml version=\"1.0\" encoding=\"UTF-8\" standalone=\"no\"?>\r\n",
       "<!DOCTYPE svg PUBLIC \"-//W3C//DTD SVG 1.1//EN\"\r\n",
       " \"http://www.w3.org/Graphics/SVG/1.1/DTD/svg11.dtd\">\r\n",
       "<!-- Generated by graphviz version 2.38.0 (20140413.2041)\r\n",
       " -->\r\n",
       "<!-- Title: %3 Pages: 1 -->\r\n",
       "<svg width=\"245pt\" height=\"218pt\"\r\n",
       " viewBox=\"0.00 0.00 245.00 218.00\" xmlns=\"http://www.w3.org/2000/svg\" xmlns:xlink=\"http://www.w3.org/1999/xlink\">\r\n",
       "<g id=\"graph0\" class=\"graph\" transform=\"scale(1 1) rotate(0) translate(4 214)\">\r\n",
       "<title>%3</title>\r\n",
       "<polygon fill=\"white\" stroke=\"none\" points=\"-4,4 -4,-214 241,-214 241,4 -4,4\"/>\r\n",
       "<!-- x0 -->\r\n",
       "<g id=\"node1\" class=\"node\"><title>x0</title>\r\n",
       "<ellipse fill=\"none\" stroke=\"black\" cx=\"150\" cy=\"-105\" rx=\"27\" ry=\"18\"/>\r\n",
       "<text text-anchor=\"middle\" x=\"150\" y=\"-101.3\" font-family=\"Times New Roman,serif\" font-size=\"14.00\">x0</text>\r\n",
       "</g>\r\n",
       "<!-- x1 -->\r\n",
       "<g id=\"node2\" class=\"node\"><title>x1</title>\r\n",
       "<ellipse fill=\"none\" stroke=\"black\" cx=\"125\" cy=\"-18\" rx=\"27\" ry=\"18\"/>\r\n",
       "<text text-anchor=\"middle\" x=\"125\" y=\"-14.3\" font-family=\"Times New Roman,serif\" font-size=\"14.00\">x1</text>\r\n",
       "</g>\r\n",
       "<!-- x0&#45;&gt;x1 -->\r\n",
       "<g id=\"edge2\" class=\"edge\"><title>x0&#45;&gt;x1</title>\r\n",
       "<path fill=\"none\" stroke=\"black\" d=\"M147.442,-86.6548C145.783,-76.931 143.308,-64.6521 140,-54 139.069,-51.0031 137.968,-47.9142 136.791,-44.8705\"/>\r\n",
       "<polygon fill=\"black\" stroke=\"black\" points=\"139.956,-43.3657 132.892,-35.4693 133.49,-46.0472 139.956,-43.3657\"/>\r\n",
       "<text text-anchor=\"middle\" x=\"155.5\" y=\"-57.8\" font-family=\"Times New Roman,serif\" font-size=\"14.00\">3.50</text>\r\n",
       "</g>\r\n",
       "<!-- x4 -->\r\n",
       "<g id=\"node5\" class=\"node\"><title>x4</title>\r\n",
       "<ellipse fill=\"none\" stroke=\"black\" cx=\"27\" cy=\"-18\" rx=\"27\" ry=\"18\"/>\r\n",
       "<text text-anchor=\"middle\" x=\"27\" y=\"-14.3\" font-family=\"Times New Roman,serif\" font-size=\"14.00\">x4</text>\r\n",
       "</g>\r\n",
       "<!-- x0&#45;&gt;x4 -->\r\n",
       "<g id=\"edge5\" class=\"edge\"><title>x0&#45;&gt;x4</title>\r\n",
       "<path fill=\"none\" stroke=\"black\" d=\"M134.544,-90.005C120.464,-77.3813 100.597,-59.916 92,-54 81.194,-46.5643 68.6395,-39.4801 57.4616,-33.6547\"/>\r\n",
       "<polygon fill=\"black\" stroke=\"black\" points=\"58.9644,-30.4924 48.4645,-29.0773 55.7902,-36.7313 58.9644,-30.4924\"/>\r\n",
       "<text text-anchor=\"middle\" x=\"121.5\" y=\"-57.8\" font-family=\"Times New Roman,serif\" font-size=\"14.00\">8.50</text>\r\n",
       "</g>\r\n",
       "<!-- x5 -->\r\n",
       "<g id=\"node6\" class=\"node\"><title>x5</title>\r\n",
       "<ellipse fill=\"none\" stroke=\"black\" cx=\"210\" cy=\"-18\" rx=\"27\" ry=\"18\"/>\r\n",
       "<text text-anchor=\"middle\" x=\"210\" y=\"-14.3\" font-family=\"Times New Roman,serif\" font-size=\"14.00\">x5</text>\r\n",
       "</g>\r\n",
       "<!-- x0&#45;&gt;x5 -->\r\n",
       "<g id=\"edge7\" class=\"edge\"><title>x0&#45;&gt;x5</title>\r\n",
       "<path fill=\"none\" stroke=\"black\" d=\"M161.005,-88.4097C169.97,-75.709 182.78,-57.5615 193.053,-43.0079\"/>\r\n",
       "<polygon fill=\"black\" stroke=\"black\" points=\"196.157,-44.6796 199.065,-34.4915 190.439,-40.6428 196.157,-44.6796\"/>\r\n",
       "<text text-anchor=\"middle\" x=\"195.5\" y=\"-57.8\" font-family=\"Times New Roman,serif\" font-size=\"14.00\">4.50</text>\r\n",
       "</g>\r\n",
       "<!-- x2 -->\r\n",
       "<g id=\"node3\" class=\"node\"><title>x2</title>\r\n",
       "<ellipse fill=\"none\" stroke=\"black\" cx=\"66\" cy=\"-105\" rx=\"27\" ry=\"18\"/>\r\n",
       "<text text-anchor=\"middle\" x=\"66\" y=\"-101.3\" font-family=\"Times New Roman,serif\" font-size=\"14.00\">x2</text>\r\n",
       "</g>\r\n",
       "<!-- x2&#45;&gt;x1 -->\r\n",
       "<g id=\"edge3\" class=\"edge\"><title>x2&#45;&gt;x1</title>\r\n",
       "<path fill=\"none\" stroke=\"black\" d=\"M62.441,-87.1561C61.1798,-76.9067 61.2665,-63.9233 67,-54 72.721,-44.0984 82.4634,-36.6692 92.347,-31.2627\"/>\r\n",
       "<polygon fill=\"black\" stroke=\"black\" points=\"93.9103,-34.3944 101.352,-26.8534 90.8319,-28.1076 93.9103,-34.3944\"/>\r\n",
       "<text text-anchor=\"middle\" x=\"79.5\" y=\"-57.8\" font-family=\"Times New Roman,serif\" font-size=\"14.00\">2.50</text>\r\n",
       "</g>\r\n",
       "<!-- x2&#45;&gt;x4 -->\r\n",
       "<g id=\"edge6\" class=\"edge\"><title>x2&#45;&gt;x4</title>\r\n",
       "<path fill=\"none\" stroke=\"black\" d=\"M43.7256,-94.7988C32.9729,-89.0846 21.1041,-80.5923 15,-69 11.0376,-61.4751 11.6861,-52.6266 14.0624,-44.4816\"/>\r\n",
       "<polygon fill=\"black\" stroke=\"black\" points=\"17.3723,-45.6237 17.6242,-35.0319 10.8221,-43.1548 17.3723,-45.6237\"/>\r\n",
       "<text text-anchor=\"middle\" x=\"29.5\" y=\"-57.8\" font-family=\"Times New Roman,serif\" font-size=\"14.00\">&#45;1.50</text>\r\n",
       "</g>\r\n",
       "<!-- x3 -->\r\n",
       "<g id=\"node4\" class=\"node\"><title>x3</title>\r\n",
       "<ellipse fill=\"none\" stroke=\"black\" cx=\"112\" cy=\"-192\" rx=\"27\" ry=\"18\"/>\r\n",
       "<text text-anchor=\"middle\" x=\"112\" y=\"-188.3\" font-family=\"Times New Roman,serif\" font-size=\"14.00\">x3</text>\r\n",
       "</g>\r\n",
       "<!-- x3&#45;&gt;x0 -->\r\n",
       "<g id=\"edge1\" class=\"edge\"><title>x3&#45;&gt;x0</title>\r\n",
       "<path fill=\"none\" stroke=\"black\" d=\"M119.327,-174.611C124.741,-162.499 132.221,-145.768 138.439,-131.86\"/>\r\n",
       "<polygon fill=\"black\" stroke=\"black\" points=\"141.81,-132.896 142.696,-122.339 135.419,-130.039 141.81,-132.896\"/>\r\n",
       "<text text-anchor=\"middle\" x=\"145.5\" y=\"-144.8\" font-family=\"Times New Roman,serif\" font-size=\"14.00\">3.50</text>\r\n",
       "</g>\r\n",
       "<!-- x3&#45;&gt;x2 -->\r\n",
       "<g id=\"edge4\" class=\"edge\"><title>x3&#45;&gt;x2</title>\r\n",
       "<path fill=\"none\" stroke=\"black\" d=\"M103.131,-174.611C96.47,-162.303 87.2279,-145.226 79.6308,-131.187\"/>\r\n",
       "<polygon fill=\"black\" stroke=\"black\" points=\"82.5237,-129.179 74.686,-122.05 76.3674,-132.511 82.5237,-129.179\"/>\r\n",
       "<text text-anchor=\"middle\" x=\"103.5\" y=\"-144.8\" font-family=\"Times New Roman,serif\" font-size=\"14.00\">6.50</text>\r\n",
       "</g>\r\n",
       "</g>\r\n",
       "</svg>\r\n"
      ],
      "text/plain": [
       "<graphviz.dot.Digraph at 0x11b81b45be0>"
      ]
     },
     "execution_count": 5,
     "metadata": {},
     "output_type": "execute_result"
    }
   ],
   "source": [
    "m = np.array([[0.0, 0.0, 0.0, 3.5, 0.0, 0.0],\n",
    "              [3.5, 0.0, 2.5, 0.0, 0.0, 0.0],\n",
    "              [0.0, 0.0, 0.0, 6.5, 0.0, 0.0],\n",
    "              [0.0, 0.0, 0.0, 0.0, 0.0, 0.0],\n",
    "              [8.5, 0.0,-1.5, 0.0, 0.0, 0.0],\n",
    "              [4.5, 0.0, 0.0, 0.0, 0.0, 0.0]])\n",
    "\n",
    "make_dot(m)"
   ]
  },
  {
   "cell_type": "markdown",
   "metadata": {},
   "source": [
    "We create a list variable that contains two datasets."
   ]
  },
  {
   "cell_type": "code",
   "execution_count": null,
   "metadata": {
    "ExecuteTime": {
     "end_time": "2019-12-12T06:43:52.441916Z",
     "start_time": "2019-12-12T06:43:52.433938Z"
    }
   },
   "outputs": [],
   "source": [
    "X_list = [X1, X2]"
   ]
  },
  {
   "cell_type": "markdown",
   "metadata": {},
   "source": [
    "## Causal Discovery\n",
    "To run causal discovery for multiple datasets, we create a `MultiGroupDirectLiNGAM` object and call the `fit` method."
   ]
  },
  {
   "cell_type": "code",
   "execution_count": null,
   "metadata": {
    "ExecuteTime": {
     "end_time": "2019-12-12T06:43:52.654349Z",
     "start_time": "2019-12-12T06:43:52.451891Z"
    }
   },
   "outputs": [
    {
     "data": {
      "text/plain": [
       "<lingam.multi_group_direct_lingam.MultiGroupDirectLiNGAM at 0x11b81b45e48>"
      ]
     },
     "execution_count": 7,
     "metadata": {},
     "output_type": "execute_result"
    }
   ],
   "source": [
    "model = lingam.MultiGroupDirectLiNGAM()\n",
    "model.fit(X_list)"
   ]
  },
  {
   "cell_type": "markdown",
   "metadata": {},
   "source": [
    "Using the `causal_order_` properties, we can see the causal ordering as a result of the causal discovery."
   ]
  },
  {
   "cell_type": "code",
   "execution_count": null,
   "metadata": {
    "ExecuteTime": {
     "end_time": "2019-12-12T06:43:52.665320Z",
     "start_time": "2019-12-12T06:43:52.658341Z"
    }
   },
   "outputs": [
    {
     "data": {
      "text/plain": [
       "[3, 2, 0, 1, 5, 4]"
      ]
     },
     "execution_count": 8,
     "metadata": {},
     "output_type": "execute_result"
    }
   ],
   "source": [
    "model.causal_order_"
   ]
  },
  {
   "cell_type": "markdown",
   "metadata": {
    "ExecuteTime": {
     "end_time": "2019-09-09T01:24:30.429100Z",
     "start_time": "2019-09-09T01:24:30.422118Z"
    }
   },
   "source": [
    "Also, using the `adjacency_matrix_` properties, we can see the adjacency matrix as a result of the causal discovery. As you can see from the following, DAG in each dataset is correctly estimated."
   ]
  },
  {
   "cell_type": "code",
   "execution_count": null,
   "metadata": {
    "ExecuteTime": {
     "end_time": "2019-12-12T06:43:52.963524Z",
     "start_time": "2019-12-12T06:43:52.667315Z"
    }
   },
   "outputs": [
    {
     "name": "stdout",
     "output_type": "stream",
     "text": [
      "[[ 0.     0.     0.     3.006  0.     0.   ]\n",
      " [ 3.002  0.     1.996  0.     0.     0.   ]\n",
      " [ 0.     0.     0.     6.001  0.     0.   ]\n",
      " [ 0.     0.     0.     0.     0.     0.   ]\n",
      " [ 7.978  0.    -0.988  0.     0.     0.   ]\n",
      " [ 3.998  0.     0.     0.     0.     0.   ]]\n"
     ]
    },
    {
     "data": {
      "image/svg+xml": [
       "<?xml version=\"1.0\" encoding=\"UTF-8\" standalone=\"no\"?>\r\n",
       "<!DOCTYPE svg PUBLIC \"-//W3C//DTD SVG 1.1//EN\"\r\n",
       " \"http://www.w3.org/Graphics/SVG/1.1/DTD/svg11.dtd\">\r\n",
       "<!-- Generated by graphviz version 2.38.0 (20140413.2041)\r\n",
       " -->\r\n",
       "<!-- Title: %3 Pages: 1 -->\r\n",
       "<svg width=\"245pt\" height=\"218pt\"\r\n",
       " viewBox=\"0.00 0.00 245.00 218.00\" xmlns=\"http://www.w3.org/2000/svg\" xmlns:xlink=\"http://www.w3.org/1999/xlink\">\r\n",
       "<g id=\"graph0\" class=\"graph\" transform=\"scale(1 1) rotate(0) translate(4 214)\">\r\n",
       "<title>%3</title>\r\n",
       "<polygon fill=\"white\" stroke=\"none\" points=\"-4,4 -4,-214 241,-214 241,4 -4,4\"/>\r\n",
       "<!-- x0 -->\r\n",
       "<g id=\"node1\" class=\"node\"><title>x0</title>\r\n",
       "<ellipse fill=\"none\" stroke=\"black\" cx=\"150\" cy=\"-105\" rx=\"27\" ry=\"18\"/>\r\n",
       "<text text-anchor=\"middle\" x=\"150\" y=\"-101.3\" font-family=\"Times New Roman,serif\" font-size=\"14.00\">x0</text>\r\n",
       "</g>\r\n",
       "<!-- x1 -->\r\n",
       "<g id=\"node2\" class=\"node\"><title>x1</title>\r\n",
       "<ellipse fill=\"none\" stroke=\"black\" cx=\"125\" cy=\"-18\" rx=\"27\" ry=\"18\"/>\r\n",
       "<text text-anchor=\"middle\" x=\"125\" y=\"-14.3\" font-family=\"Times New Roman,serif\" font-size=\"14.00\">x1</text>\r\n",
       "</g>\r\n",
       "<!-- x0&#45;&gt;x1 -->\r\n",
       "<g id=\"edge2\" class=\"edge\"><title>x0&#45;&gt;x1</title>\r\n",
       "<path fill=\"none\" stroke=\"black\" d=\"M147.442,-86.6548C145.783,-76.931 143.308,-64.6521 140,-54 139.069,-51.0031 137.968,-47.9142 136.791,-44.8705\"/>\r\n",
       "<polygon fill=\"black\" stroke=\"black\" points=\"139.956,-43.3657 132.892,-35.4693 133.49,-46.0472 139.956,-43.3657\"/>\r\n",
       "<text text-anchor=\"middle\" x=\"155.5\" y=\"-57.8\" font-family=\"Times New Roman,serif\" font-size=\"14.00\">3.00</text>\r\n",
       "</g>\r\n",
       "<!-- x4 -->\r\n",
       "<g id=\"node5\" class=\"node\"><title>x4</title>\r\n",
       "<ellipse fill=\"none\" stroke=\"black\" cx=\"27\" cy=\"-18\" rx=\"27\" ry=\"18\"/>\r\n",
       "<text text-anchor=\"middle\" x=\"27\" y=\"-14.3\" font-family=\"Times New Roman,serif\" font-size=\"14.00\">x4</text>\r\n",
       "</g>\r\n",
       "<!-- x0&#45;&gt;x4 -->\r\n",
       "<g id=\"edge5\" class=\"edge\"><title>x0&#45;&gt;x4</title>\r\n",
       "<path fill=\"none\" stroke=\"black\" d=\"M134.544,-90.005C120.464,-77.3813 100.597,-59.916 92,-54 81.194,-46.5643 68.6395,-39.4801 57.4616,-33.6547\"/>\r\n",
       "<polygon fill=\"black\" stroke=\"black\" points=\"58.9644,-30.4924 48.4645,-29.0773 55.7902,-36.7313 58.9644,-30.4924\"/>\r\n",
       "<text text-anchor=\"middle\" x=\"121.5\" y=\"-57.8\" font-family=\"Times New Roman,serif\" font-size=\"14.00\">7.98</text>\r\n",
       "</g>\r\n",
       "<!-- x5 -->\r\n",
       "<g id=\"node6\" class=\"node\"><title>x5</title>\r\n",
       "<ellipse fill=\"none\" stroke=\"black\" cx=\"210\" cy=\"-18\" rx=\"27\" ry=\"18\"/>\r\n",
       "<text text-anchor=\"middle\" x=\"210\" y=\"-14.3\" font-family=\"Times New Roman,serif\" font-size=\"14.00\">x5</text>\r\n",
       "</g>\r\n",
       "<!-- x0&#45;&gt;x5 -->\r\n",
       "<g id=\"edge7\" class=\"edge\"><title>x0&#45;&gt;x5</title>\r\n",
       "<path fill=\"none\" stroke=\"black\" d=\"M161.005,-88.4097C169.97,-75.709 182.78,-57.5615 193.053,-43.0079\"/>\r\n",
       "<polygon fill=\"black\" stroke=\"black\" points=\"196.157,-44.6796 199.065,-34.4915 190.439,-40.6428 196.157,-44.6796\"/>\r\n",
       "<text text-anchor=\"middle\" x=\"195.5\" y=\"-57.8\" font-family=\"Times New Roman,serif\" font-size=\"14.00\">4.00</text>\r\n",
       "</g>\r\n",
       "<!-- x2 -->\r\n",
       "<g id=\"node3\" class=\"node\"><title>x2</title>\r\n",
       "<ellipse fill=\"none\" stroke=\"black\" cx=\"66\" cy=\"-105\" rx=\"27\" ry=\"18\"/>\r\n",
       "<text text-anchor=\"middle\" x=\"66\" y=\"-101.3\" font-family=\"Times New Roman,serif\" font-size=\"14.00\">x2</text>\r\n",
       "</g>\r\n",
       "<!-- x2&#45;&gt;x1 -->\r\n",
       "<g id=\"edge3\" class=\"edge\"><title>x2&#45;&gt;x1</title>\r\n",
       "<path fill=\"none\" stroke=\"black\" d=\"M62.441,-87.1561C61.1798,-76.9067 61.2665,-63.9233 67,-54 72.721,-44.0984 82.4634,-36.6692 92.347,-31.2627\"/>\r\n",
       "<polygon fill=\"black\" stroke=\"black\" points=\"93.9103,-34.3944 101.352,-26.8534 90.8319,-28.1076 93.9103,-34.3944\"/>\r\n",
       "<text text-anchor=\"middle\" x=\"79.5\" y=\"-57.8\" font-family=\"Times New Roman,serif\" font-size=\"14.00\">2.00</text>\r\n",
       "</g>\r\n",
       "<!-- x2&#45;&gt;x4 -->\r\n",
       "<g id=\"edge6\" class=\"edge\"><title>x2&#45;&gt;x4</title>\r\n",
       "<path fill=\"none\" stroke=\"black\" d=\"M43.7256,-94.7988C32.9729,-89.0846 21.1041,-80.5923 15,-69 11.0376,-61.4751 11.6861,-52.6266 14.0624,-44.4816\"/>\r\n",
       "<polygon fill=\"black\" stroke=\"black\" points=\"17.3723,-45.6237 17.6242,-35.0319 10.8221,-43.1548 17.3723,-45.6237\"/>\r\n",
       "<text text-anchor=\"middle\" x=\"29.5\" y=\"-57.8\" font-family=\"Times New Roman,serif\" font-size=\"14.00\">&#45;0.99</text>\r\n",
       "</g>\r\n",
       "<!-- x3 -->\r\n",
       "<g id=\"node4\" class=\"node\"><title>x3</title>\r\n",
       "<ellipse fill=\"none\" stroke=\"black\" cx=\"112\" cy=\"-192\" rx=\"27\" ry=\"18\"/>\r\n",
       "<text text-anchor=\"middle\" x=\"112\" y=\"-188.3\" font-family=\"Times New Roman,serif\" font-size=\"14.00\">x3</text>\r\n",
       "</g>\r\n",
       "<!-- x3&#45;&gt;x0 -->\r\n",
       "<g id=\"edge1\" class=\"edge\"><title>x3&#45;&gt;x0</title>\r\n",
       "<path fill=\"none\" stroke=\"black\" d=\"M119.327,-174.611C124.741,-162.499 132.221,-145.768 138.439,-131.86\"/>\r\n",
       "<polygon fill=\"black\" stroke=\"black\" points=\"141.81,-132.896 142.696,-122.339 135.419,-130.039 141.81,-132.896\"/>\r\n",
       "<text text-anchor=\"middle\" x=\"145.5\" y=\"-144.8\" font-family=\"Times New Roman,serif\" font-size=\"14.00\">3.01</text>\r\n",
       "</g>\r\n",
       "<!-- x3&#45;&gt;x2 -->\r\n",
       "<g id=\"edge4\" class=\"edge\"><title>x3&#45;&gt;x2</title>\r\n",
       "<path fill=\"none\" stroke=\"black\" d=\"M103.131,-174.611C96.47,-162.303 87.2279,-145.226 79.6308,-131.187\"/>\r\n",
       "<polygon fill=\"black\" stroke=\"black\" points=\"82.5237,-129.179 74.686,-122.05 76.3674,-132.511 82.5237,-129.179\"/>\r\n",
       "<text text-anchor=\"middle\" x=\"103.5\" y=\"-144.8\" font-family=\"Times New Roman,serif\" font-size=\"14.00\">6.00</text>\r\n",
       "</g>\r\n",
       "</g>\r\n",
       "</svg>\r\n"
      ],
      "text/plain": [
       "<graphviz.dot.Digraph at 0x11b85a7a2b0>"
      ]
     },
     "execution_count": 9,
     "metadata": {},
     "output_type": "execute_result"
    }
   ],
   "source": [
    "print(model.adjacency_matrices_[0])\n",
    "make_dot(model.adjacency_matrices_[0])"
   ]
  },
  {
   "cell_type": "code",
   "execution_count": null,
   "metadata": {
    "ExecuteTime": {
     "end_time": "2019-12-12T06:43:53.234415Z",
     "start_time": "2019-12-12T06:43:52.965520Z"
    }
   },
   "outputs": [
    {
     "name": "stdout",
     "output_type": "stream",
     "text": [
      "[[ 0.     0.     0.043  3.245  0.     0.   ]\n",
      " [ 3.508  0.     2.491  0.     0.     0.   ]\n",
      " [ 0.     0.     0.     6.481  0.     0.   ]\n",
      " [ 0.     0.     0.     0.     0.     0.   ]\n",
      " [ 7.519  0.    -0.942  0.     0.     0.   ]\n",
      " [ 4.422  0.     0.     0.     0.     0.   ]]\n"
     ]
    },
    {
     "data": {
      "image/svg+xml": [
       "<?xml version=\"1.0\" encoding=\"UTF-8\" standalone=\"no\"?>\r\n",
       "<!DOCTYPE svg PUBLIC \"-//W3C//DTD SVG 1.1//EN\"\r\n",
       " \"http://www.w3.org/Graphics/SVG/1.1/DTD/svg11.dtd\">\r\n",
       "<!-- Generated by graphviz version 2.38.0 (20140413.2041)\r\n",
       " -->\r\n",
       "<!-- Title: %3 Pages: 1 -->\r\n",
       "<svg width=\"219pt\" height=\"305pt\"\r\n",
       " viewBox=\"0.00 0.00 219.00 305.00\" xmlns=\"http://www.w3.org/2000/svg\" xmlns:xlink=\"http://www.w3.org/1999/xlink\">\r\n",
       "<g id=\"graph0\" class=\"graph\" transform=\"scale(1 1) rotate(0) translate(4 301)\">\r\n",
       "<title>%3</title>\r\n",
       "<polygon fill=\"white\" stroke=\"none\" points=\"-4,4 -4,-301 215,-301 215,4 -4,4\"/>\r\n",
       "<!-- x0 -->\r\n",
       "<g id=\"node1\" class=\"node\"><title>x0</title>\r\n",
       "<ellipse fill=\"none\" stroke=\"black\" cx=\"97\" cy=\"-105\" rx=\"27\" ry=\"18\"/>\r\n",
       "<text text-anchor=\"middle\" x=\"97\" y=\"-101.3\" font-family=\"Times New Roman,serif\" font-size=\"14.00\">x0</text>\r\n",
       "</g>\r\n",
       "<!-- x1 -->\r\n",
       "<g id=\"node2\" class=\"node\"><title>x1</title>\r\n",
       "<ellipse fill=\"none\" stroke=\"black\" cx=\"184\" cy=\"-18\" rx=\"27\" ry=\"18\"/>\r\n",
       "<text text-anchor=\"middle\" x=\"184\" y=\"-14.3\" font-family=\"Times New Roman,serif\" font-size=\"14.00\">x1</text>\r\n",
       "</g>\r\n",
       "<!-- x0&#45;&gt;x1 -->\r\n",
       "<g id=\"edge3\" class=\"edge\"><title>x0&#45;&gt;x1</title>\r\n",
       "<path fill=\"none\" stroke=\"black\" d=\"M111.758,-89.5809C125.59,-76.0671 146.439,-55.697 162.19,-40.3085\"/>\r\n",
       "<polygon fill=\"black\" stroke=\"black\" points=\"164.753,-42.698 169.46,-33.2061 159.861,-37.6911 164.753,-42.698\"/>\r\n",
       "<text text-anchor=\"middle\" x=\"157.5\" y=\"-57.8\" font-family=\"Times New Roman,serif\" font-size=\"14.00\">3.51</text>\r\n",
       "</g>\r\n",
       "<!-- x4 -->\r\n",
       "<g id=\"node5\" class=\"node\"><title>x4</title>\r\n",
       "<ellipse fill=\"none\" stroke=\"black\" cx=\"27\" cy=\"-18\" rx=\"27\" ry=\"18\"/>\r\n",
       "<text text-anchor=\"middle\" x=\"27\" y=\"-14.3\" font-family=\"Times New Roman,serif\" font-size=\"14.00\">x4</text>\r\n",
       "</g>\r\n",
       "<!-- x0&#45;&gt;x4 -->\r\n",
       "<g id=\"edge6\" class=\"edge\"><title>x0&#45;&gt;x4</title>\r\n",
       "<path fill=\"none\" stroke=\"black\" d=\"M84.4854,-88.8037C73.7349,-75.7495 58.0762,-56.7354 45.8154,-41.8473\"/>\r\n",
       "<polygon fill=\"black\" stroke=\"black\" points=\"48.4651,-39.5591 39.4063,-34.0647 43.0616,-44.009 48.4651,-39.5591\"/>\r\n",
       "<text text-anchor=\"middle\" x=\"78.5\" y=\"-57.8\" font-family=\"Times New Roman,serif\" font-size=\"14.00\">7.52</text>\r\n",
       "</g>\r\n",
       "<!-- x5 -->\r\n",
       "<g id=\"node6\" class=\"node\"><title>x5</title>\r\n",
       "<ellipse fill=\"none\" stroke=\"black\" cx=\"104\" cy=\"-18\" rx=\"27\" ry=\"18\"/>\r\n",
       "<text text-anchor=\"middle\" x=\"104\" y=\"-14.3\" font-family=\"Times New Roman,serif\" font-size=\"14.00\">x5</text>\r\n",
       "</g>\r\n",
       "<!-- x0&#45;&gt;x5 -->\r\n",
       "<g id=\"edge8\" class=\"edge\"><title>x0&#45;&gt;x5</title>\r\n",
       "<path fill=\"none\" stroke=\"black\" d=\"M98.4166,-86.799C99.3748,-75.1626 100.661,-59.5479 101.757,-46.2368\"/>\r\n",
       "<polygon fill=\"black\" stroke=\"black\" points=\"105.253,-46.429 102.586,-36.1754 98.2765,-45.8544 105.253,-46.429\"/>\r\n",
       "<text text-anchor=\"middle\" x=\"112.5\" y=\"-57.8\" font-family=\"Times New Roman,serif\" font-size=\"14.00\">4.42</text>\r\n",
       "</g>\r\n",
       "<!-- x2 -->\r\n",
       "<g id=\"node3\" class=\"node\"><title>x2</title>\r\n",
       "<ellipse fill=\"none\" stroke=\"black\" cx=\"82\" cy=\"-192\" rx=\"27\" ry=\"18\"/>\r\n",
       "<text text-anchor=\"middle\" x=\"82\" y=\"-188.3\" font-family=\"Times New Roman,serif\" font-size=\"14.00\">x2</text>\r\n",
       "</g>\r\n",
       "<!-- x2&#45;&gt;x0 -->\r\n",
       "<g id=\"edge1\" class=\"edge\"><title>x2&#45;&gt;x0</title>\r\n",
       "<path fill=\"none\" stroke=\"black\" d=\"M85.0355,-173.799C87.089,-162.163 89.8445,-146.548 92.1935,-133.237\"/>\r\n",
       "<polygon fill=\"black\" stroke=\"black\" points=\"95.6778,-133.632 93.969,-123.175 88.7844,-132.415 95.6778,-133.632\"/>\r\n",
       "<text text-anchor=\"middle\" x=\"102.5\" y=\"-144.8\" font-family=\"Times New Roman,serif\" font-size=\"14.00\">0.04</text>\r\n",
       "</g>\r\n",
       "<!-- x2&#45;&gt;x1 -->\r\n",
       "<g id=\"edge4\" class=\"edge\"><title>x2&#45;&gt;x1</title>\r\n",
       "<path fill=\"none\" stroke=\"black\" d=\"M98.3467,-177.162C105.12,-171.029 112.82,-163.511 119,-156 148.064,-120.674 157.008,-111.472 174,-69 176.894,-61.7672 178.98,-53.5987 180.471,-45.9926\"/>\r\n",
       "<polygon fill=\"black\" stroke=\"black\" points=\"183.926,-46.5558 182.157,-36.1097 177.025,-45.3788 183.926,-46.5558\"/>\r\n",
       "<text text-anchor=\"middle\" x=\"178.5\" y=\"-101.3\" font-family=\"Times New Roman,serif\" font-size=\"14.00\">2.49</text>\r\n",
       "</g>\r\n",
       "<!-- x2&#45;&gt;x4 -->\r\n",
       "<g id=\"edge7\" class=\"edge\"><title>x2&#45;&gt;x4</title>\r\n",
       "<path fill=\"none\" stroke=\"black\" d=\"M67.4007,-176.589C55.4665,-163.764 39.4005,-143.852 32,-123 23.1559,-98.0797 22.7866,-67.6808 24.0946,-46.2016\"/>\r\n",
       "<polygon fill=\"black\" stroke=\"black\" points=\"27.5906,-46.3873 24.8684,-36.1481 20.6112,-45.85 27.5906,-46.3873\"/>\r\n",
       "<text text-anchor=\"middle\" x=\"46.5\" y=\"-101.3\" font-family=\"Times New Roman,serif\" font-size=\"14.00\">&#45;0.94</text>\r\n",
       "</g>\r\n",
       "<!-- x3 -->\r\n",
       "<g id=\"node4\" class=\"node\"><title>x3</title>\r\n",
       "<ellipse fill=\"none\" stroke=\"black\" cx=\"27\" cy=\"-279\" rx=\"27\" ry=\"18\"/>\r\n",
       "<text text-anchor=\"middle\" x=\"27\" y=\"-275.3\" font-family=\"Times New Roman,serif\" font-size=\"14.00\">x3</text>\r\n",
       "</g>\r\n",
       "<!-- x3&#45;&gt;x0 -->\r\n",
       "<g id=\"edge2\" class=\"edge\"><title>x3&#45;&gt;x0</title>\r\n",
       "<path fill=\"none\" stroke=\"black\" d=\"M21.4895,-261.3C15.459,-240.016 8.22916,-202.563 21,-174 30.6616,-152.391 50.9602,-134.806 68.1503,-122.936\"/>\r\n",
       "<polygon fill=\"black\" stroke=\"black\" points=\"70.3514,-125.677 76.7834,-117.258 66.5051,-119.828 70.3514,-125.677\"/>\r\n",
       "<text text-anchor=\"middle\" x=\"33.5\" y=\"-188.3\" font-family=\"Times New Roman,serif\" font-size=\"14.00\">3.25</text>\r\n",
       "</g>\r\n",
       "<!-- x3&#45;&gt;x2 -->\r\n",
       "<g id=\"edge5\" class=\"edge\"><title>x3&#45;&gt;x2</title>\r\n",
       "<path fill=\"none\" stroke=\"black\" d=\"M37.3451,-262.012C45.4881,-249.427 56.9725,-231.679 66.2554,-217.333\"/>\r\n",
       "<polygon fill=\"black\" stroke=\"black\" points=\"69.2073,-219.213 71.7013,-208.916 63.3302,-215.41 69.2073,-219.213\"/>\r\n",
       "<text text-anchor=\"middle\" x=\"69.5\" y=\"-231.8\" font-family=\"Times New Roman,serif\" font-size=\"14.00\">6.48</text>\r\n",
       "</g>\r\n",
       "</g>\r\n",
       "</svg>\r\n"
      ],
      "text/plain": [
       "<graphviz.dot.Digraph at 0x11b85a7ab38>"
      ]
     },
     "execution_count": 10,
     "metadata": {},
     "output_type": "execute_result"
    }
   ],
   "source": [
    "print(model.adjacency_matrices_[1])\n",
    "make_dot(model.adjacency_matrices_[1])"
   ]
  },
  {
   "cell_type": "markdown",
   "metadata": {},
   "source": [
    "To compare, we run DirectLiNGAM with single dataset concatenating two datasets."
   ]
  },
  {
   "cell_type": "code",
   "execution_count": null,
   "metadata": {
    "ExecuteTime": {
     "end_time": "2019-12-12T06:43:53.245385Z",
     "start_time": "2019-12-12T06:43:53.236409Z"
    }
   },
   "outputs": [
    {
     "name": "stdout",
     "output_type": "stream",
     "text": [
      "(11000, 6)\n"
     ]
    }
   ],
   "source": [
    "X_all = pd.concat([X1, X2])\n",
    "print(X_all.shape)"
   ]
  },
  {
   "cell_type": "code",
   "execution_count": null,
   "metadata": {
    "ExecuteTime": {
     "end_time": "2019-12-12T06:43:53.390217Z",
     "start_time": "2019-12-12T06:43:53.248378Z"
    }
   },
   "outputs": [
    {
     "data": {
      "text/plain": [
       "[3, 4, 5, 2, 1, 0]"
      ]
     },
     "execution_count": 12,
     "metadata": {},
     "output_type": "execute_result"
    }
   ],
   "source": [
    "model_all = lingam.DirectLiNGAM()\n",
    "model_all.fit(X_all)\n",
    "\n",
    "model_all.causal_order_"
   ]
  },
  {
   "cell_type": "markdown",
   "metadata": {},
   "source": [
    "You can see that the causal structure cannot be estimated correctly for a single dataset."
   ]
  },
  {
   "cell_type": "code",
   "execution_count": null,
   "metadata": {
    "ExecuteTime": {
     "end_time": "2019-12-12T06:43:53.660358Z",
     "start_time": "2019-12-12T06:43:53.393210Z"
    }
   },
   "outputs": [
    {
     "data": {
      "image/svg+xml": [
       "<?xml version=\"1.0\" encoding=\"UTF-8\" standalone=\"no\"?>\r\n",
       "<!DOCTYPE svg PUBLIC \"-//W3C//DTD SVG 1.1//EN\"\r\n",
       " \"http://www.w3.org/Graphics/SVG/1.1/DTD/svg11.dtd\">\r\n",
       "<!-- Generated by graphviz version 2.38.0 (20140413.2041)\r\n",
       " -->\r\n",
       "<!-- Title: %3 Pages: 1 -->\r\n",
       "<svg width=\"318pt\" height=\"479pt\"\r\n",
       " viewBox=\"0.00 0.00 318.00 479.00\" xmlns=\"http://www.w3.org/2000/svg\" xmlns:xlink=\"http://www.w3.org/1999/xlink\">\r\n",
       "<g id=\"graph0\" class=\"graph\" transform=\"scale(1 1) rotate(0) translate(4 475)\">\r\n",
       "<title>%3</title>\r\n",
       "<polygon fill=\"white\" stroke=\"none\" points=\"-4,4 -4,-475 314,-475 314,4 -4,4\"/>\r\n",
       "<!-- x0 -->\r\n",
       "<g id=\"node1\" class=\"node\"><title>x0</title>\r\n",
       "<ellipse fill=\"none\" stroke=\"black\" cx=\"179\" cy=\"-18\" rx=\"27\" ry=\"18\"/>\r\n",
       "<text text-anchor=\"middle\" x=\"179\" y=\"-14.3\" font-family=\"Times New Roman,serif\" font-size=\"14.00\">x0</text>\r\n",
       "</g>\r\n",
       "<!-- x1 -->\r\n",
       "<g id=\"node2\" class=\"node\"><title>x1</title>\r\n",
       "<ellipse fill=\"none\" stroke=\"black\" cx=\"115\" cy=\"-105\" rx=\"27\" ry=\"18\"/>\r\n",
       "<text text-anchor=\"middle\" x=\"115\" y=\"-101.3\" font-family=\"Times New Roman,serif\" font-size=\"14.00\">x1</text>\r\n",
       "</g>\r\n",
       "<!-- x1&#45;&gt;x0 -->\r\n",
       "<g id=\"edge1\" class=\"edge\"><title>x1&#45;&gt;x0</title>\r\n",
       "<path fill=\"none\" stroke=\"black\" d=\"M121.446,-87.3414C125.828,-77.1618 132.232,-64.1867 140,-54 144.055,-48.683 148.996,-43.5339 153.981,-38.8948\"/>\r\n",
       "<polygon fill=\"black\" stroke=\"black\" points=\"156.535,-41.3087 161.728,-32.0734 151.91,-36.055 156.535,-41.3087\"/>\r\n",
       "<text text-anchor=\"middle\" x=\"152.5\" y=\"-57.8\" font-family=\"Times New Roman,serif\" font-size=\"14.00\">0.01</text>\r\n",
       "</g>\r\n",
       "<!-- x2 -->\r\n",
       "<g id=\"node3\" class=\"node\"><title>x2</title>\r\n",
       "<ellipse fill=\"none\" stroke=\"black\" cx=\"114\" cy=\"-192\" rx=\"27\" ry=\"18\"/>\r\n",
       "<text text-anchor=\"middle\" x=\"114\" y=\"-188.3\" font-family=\"Times New Roman,serif\" font-size=\"14.00\">x2</text>\r\n",
       "</g>\r\n",
       "<!-- x2&#45;&gt;x0 -->\r\n",
       "<g id=\"edge2\" class=\"edge\"><title>x2&#45;&gt;x0</title>\r\n",
       "<path fill=\"none\" stroke=\"black\" d=\"M128.266,-176.696C133.55,-170.72 139.179,-163.441 143,-156 161.231,-120.502 170.814,-74.9614 175.388,-46.372\"/>\r\n",
       "<polygon fill=\"black\" stroke=\"black\" points=\"178.876,-46.7105 176.903,-36.3011 171.954,-45.669 178.876,-46.7105\"/>\r\n",
       "<text text-anchor=\"middle\" x=\"179.5\" y=\"-101.3\" font-family=\"Times New Roman,serif\" font-size=\"14.00\">0.07</text>\r\n",
       "</g>\r\n",
       "<!-- x2&#45;&gt;x1 -->\r\n",
       "<g id=\"edge6\" class=\"edge\"><title>x2&#45;&gt;x1</title>\r\n",
       "<path fill=\"none\" stroke=\"black\" d=\"M114.202,-173.799C114.339,-162.163 114.523,-146.548 114.68,-133.237\"/>\r\n",
       "<polygon fill=\"black\" stroke=\"black\" points=\"118.18,-133.216 114.798,-123.175 111.18,-133.134 118.18,-133.216\"/>\r\n",
       "<text text-anchor=\"middle\" x=\"126.5\" y=\"-144.8\" font-family=\"Times New Roman,serif\" font-size=\"14.00\">1.66</text>\r\n",
       "</g>\r\n",
       "<!-- x3 -->\r\n",
       "<g id=\"node4\" class=\"node\"><title>x3</title>\r\n",
       "<ellipse fill=\"none\" stroke=\"black\" cx=\"113\" cy=\"-453\" rx=\"27\" ry=\"18\"/>\r\n",
       "<text text-anchor=\"middle\" x=\"113\" y=\"-449.3\" font-family=\"Times New Roman,serif\" font-size=\"14.00\">x3</text>\r\n",
       "</g>\r\n",
       "<!-- x3&#45;&gt;x0 -->\r\n",
       "<g id=\"edge3\" class=\"edge\"><title>x3&#45;&gt;x0</title>\r\n",
       "<path fill=\"none\" stroke=\"black\" d=\"M139.875,-450.71C188.25,-446.789 285,-430.952 285,-367 285,-367 285,-367 285,-104 285,-66.3252 243.741,-42.5751 212.705,-30.0392\"/>\r\n",
       "<polygon fill=\"black\" stroke=\"black\" points=\"213.644,-26.6513 203.053,-26.3596 211.15,-33.1922 213.644,-26.6513\"/>\r\n",
       "<text text-anchor=\"middle\" x=\"297.5\" y=\"-231.8\" font-family=\"Times New Roman,serif\" font-size=\"14.00\">0.06</text>\r\n",
       "</g>\r\n",
       "<!-- x3&#45;&gt;x2 -->\r\n",
       "<g id=\"edge9\" class=\"edge\"><title>x3&#45;&gt;x2</title>\r\n",
       "<path fill=\"none\" stroke=\"black\" d=\"M111.439,-434.705C109.276,-408.724 105.765,-358.074 107,-315 107.932,-282.488 110.258,-245.161 111.975,-220.448\"/>\r\n",
       "<polygon fill=\"black\" stroke=\"black\" points=\"115.474,-220.584 112.69,-210.361 108.491,-220.089 115.474,-220.584\"/>\r\n",
       "<text text-anchor=\"middle\" x=\"119.5\" y=\"-318.8\" font-family=\"Times New Roman,serif\" font-size=\"14.00\">5.60</text>\r\n",
       "</g>\r\n",
       "<!-- x4 -->\r\n",
       "<g id=\"node5\" class=\"node\"><title>x4</title>\r\n",
       "<ellipse fill=\"none\" stroke=\"black\" cx=\"146\" cy=\"-366\" rx=\"27\" ry=\"18\"/>\r\n",
       "<text text-anchor=\"middle\" x=\"146\" y=\"-362.3\" font-family=\"Times New Roman,serif\" font-size=\"14.00\">x4</text>\r\n",
       "</g>\r\n",
       "<!-- x3&#45;&gt;x4 -->\r\n",
       "<g id=\"edge12\" class=\"edge\"><title>x3&#45;&gt;x4</title>\r\n",
       "<path fill=\"none\" stroke=\"black\" d=\"M119.52,-435.207C124.175,-423.216 130.528,-406.851 135.845,-393.157\"/>\r\n",
       "<polygon fill=\"black\" stroke=\"black\" points=\"139.137,-394.347 139.494,-383.758 132.612,-391.814 139.137,-394.347\"/>\r\n",
       "<text text-anchor=\"middle\" x=\"146.5\" y=\"-405.8\" font-family=\"Times New Roman,serif\" font-size=\"14.00\">18.26</text>\r\n",
       "</g>\r\n",
       "<!-- x5 -->\r\n",
       "<g id=\"node6\" class=\"node\"><title>x5</title>\r\n",
       "<ellipse fill=\"none\" stroke=\"black\" cx=\"27\" cy=\"-279\" rx=\"27\" ry=\"18\"/>\r\n",
       "<text text-anchor=\"middle\" x=\"27\" y=\"-275.3\" font-family=\"Times New Roman,serif\" font-size=\"14.00\">x5</text>\r\n",
       "</g>\r\n",
       "<!-- x3&#45;&gt;x5 -->\r\n",
       "<g id=\"edge13\" class=\"edge\"><title>x3&#45;&gt;x5</title>\r\n",
       "<path fill=\"none\" stroke=\"black\" d=\"M97.425,-437.843C90.8905,-431.656 83.3507,-424.184 77,-417 47.8923,-384.073 39.7367,-372.856 30,-330 28.369,-322.821 27.4886,-314.922 27.0408,-307.565\"/>\r\n",
       "<polygon fill=\"black\" stroke=\"black\" points=\"30.529,-307.182 26.6572,-297.32 23.5339,-307.444 30.529,-307.182\"/>\r\n",
       "<text text-anchor=\"middle\" x=\"62.5\" y=\"-362.3\" font-family=\"Times New Roman,serif\" font-size=\"14.00\">2.84</text>\r\n",
       "</g>\r\n",
       "<!-- x4&#45;&gt;x0 -->\r\n",
       "<g id=\"edge4\" class=\"edge\"><title>x4&#45;&gt;x0</title>\r\n",
       "<path fill=\"none\" stroke=\"black\" d=\"M167.701,-355.213C193.178,-342.066 232,-316.107 232,-280 232,-280 232,-280 232,-104 232,-79.7129 216.227,-56.6282 201.89,-40.6619\"/>\r\n",
       "<polygon fill=\"black\" stroke=\"black\" points=\"204.037,-37.839 194.615,-32.9927 198.958,-42.6565 204.037,-37.839\"/>\r\n",
       "<text text-anchor=\"middle\" x=\"244.5\" y=\"-188.3\" font-family=\"Times New Roman,serif\" font-size=\"14.00\">0.10</text>\r\n",
       "</g>\r\n",
       "<!-- x4&#45;&gt;x1 -->\r\n",
       "<g id=\"edge7\" class=\"edge\"><title>x4&#45;&gt;x1</title>\r\n",
       "<path fill=\"none\" stroke=\"black\" d=\"M152.387,-348.252C157.21,-334.668 163.422,-314.905 166,-297 176.019,-227.428 171.031,-204.069 140,-141 138.109,-137.156 135.809,-133.277 133.38,-129.571\"/>\r\n",
       "<polygon fill=\"black\" stroke=\"black\" points=\"136.214,-127.516 127.606,-121.339 130.483,-131.536 136.214,-127.516\"/>\r\n",
       "<text text-anchor=\"middle\" x=\"184.5\" y=\"-231.8\" font-family=\"Times New Roman,serif\" font-size=\"14.00\">&#45;0.26</text>\r\n",
       "</g>\r\n",
       "<!-- x4&#45;&gt;x2 -->\r\n",
       "<g id=\"edge10\" class=\"edge\"><title>x4&#45;&gt;x2</title>\r\n",
       "<path fill=\"none\" stroke=\"black\" d=\"M142.815,-347.879C137.256,-318.001 125.742,-256.113 119.074,-220.274\"/>\r\n",
       "<polygon fill=\"black\" stroke=\"black\" points=\"122.443,-219.243 117.172,-210.052 115.561,-220.523 122.443,-219.243\"/>\r\n",
       "<text text-anchor=\"middle\" x=\"147.5\" y=\"-275.3\" font-family=\"Times New Roman,serif\" font-size=\"14.00\">&#45;0.12</text>\r\n",
       "</g>\r\n",
       "<!-- x4&#45;&gt;x5 -->\r\n",
       "<g id=\"edge14\" class=\"edge\"><title>x4&#45;&gt;x5</title>\r\n",
       "<path fill=\"none\" stroke=\"black\" d=\"M119.125,-362.341C96.2854,-358.711 64.094,-350.151 44,-330 37.8325,-323.815 33.901,-315.309 31.3955,-307.066\"/>\r\n",
       "<polygon fill=\"black\" stroke=\"black\" points=\"34.7837,-306.188 28.992,-297.316 27.9872,-307.863 34.7837,-306.188\"/>\r\n",
       "<text text-anchor=\"middle\" x=\"56.5\" y=\"-318.8\" font-family=\"Times New Roman,serif\" font-size=\"14.00\">0.52</text>\r\n",
       "</g>\r\n",
       "<!-- x5&#45;&gt;x0 -->\r\n",
       "<g id=\"edge5\" class=\"edge\"><title>x5&#45;&gt;x0</title>\r\n",
       "<path fill=\"none\" stroke=\"black\" d=\"M24.7545,-260.784C21.9942,-234.037 19.5058,-181.381 36,-141 56.9562,-89.6948 113.038,-52.7706 148.421,-33.7252\"/>\r\n",
       "<polygon fill=\"black\" stroke=\"black\" points=\"150.128,-36.7825 157.371,-29.0502 146.887,-30.5779 150.128,-36.7825\"/>\r\n",
       "<text text-anchor=\"middle\" x=\"48.5\" y=\"-144.8\" font-family=\"Times New Roman,serif\" font-size=\"14.00\">0.04</text>\r\n",
       "</g>\r\n",
       "<!-- x5&#45;&gt;x1 -->\r\n",
       "<g id=\"edge8\" class=\"edge\"><title>x5&#45;&gt;x1</title>\r\n",
       "<path fill=\"none\" stroke=\"black\" d=\"M28.6754,-260.869C31.3371,-239.462 37.8746,-202.213 53,-174 62.7178,-155.874 78.3404,-138.782 91.4717,-126.268\"/>\r\n",
       "<polygon fill=\"black\" stroke=\"black\" points=\"93.8777,-128.811 98.8519,-119.456 89.1298,-123.667 93.8777,-128.811\"/>\r\n",
       "<text text-anchor=\"middle\" x=\"65.5\" y=\"-188.3\" font-family=\"Times New Roman,serif\" font-size=\"14.00\">1.32</text>\r\n",
       "</g>\r\n",
       "<!-- x5&#45;&gt;x2 -->\r\n",
       "<g id=\"edge11\" class=\"edge\"><title>x5&#45;&gt;x2</title>\r\n",
       "<path fill=\"none\" stroke=\"black\" d=\"M35.709,-261.95C41.8764,-251.511 50.8369,-238.026 61,-228 68.0328,-221.062 76.6346,-214.693 84.8457,-209.345\"/>\r\n",
       "<polygon fill=\"black\" stroke=\"black\" points=\"86.8615,-212.213 93.5097,-203.964 83.1681,-206.267 86.8615,-212.213\"/>\r\n",
       "<text text-anchor=\"middle\" x=\"73.5\" y=\"-231.8\" font-family=\"Times New Roman,serif\" font-size=\"14.00\">0.22</text>\r\n",
       "</g>\r\n",
       "</g>\r\n",
       "</svg>\r\n"
      ],
      "text/plain": [
       "<graphviz.dot.Digraph at 0x11b86c07240>"
      ]
     },
     "execution_count": 13,
     "metadata": {},
     "output_type": "execute_result"
    }
   ],
   "source": [
    "make_dot(model_all.adjacency_matrix_)"
   ]
  },
  {
   "cell_type": "markdown",
   "metadata": {},
   "source": [
    "## Bootstrapping\n",
    "In `MultiGroupDirectLiNGAM`, bootstrap can be executed in the same way as normal `DirectLiNGAM`."
   ]
  },
  {
   "cell_type": "code",
   "execution_count": null,
   "metadata": {
    "ExecuteTime": {
     "end_time": "2019-12-12T06:44:26.156834Z",
     "start_time": "2019-12-12T06:43:53.662352Z"
    },
    "scrolled": true
   },
   "outputs": [],
   "source": [
    "results = model.bootstrap(X_list, n_sampling=100)"
   ]
  },
  {
   "cell_type": "markdown",
   "metadata": {
    "ExecuteTime": {
     "end_time": "2019-12-09T05:23:32.829569Z",
     "start_time": "2019-12-09T05:23:32.822589Z"
    }
   },
   "source": [
    "## Causal Directions\n",
    "The `bootstrap` method returns a list of multiple `BootstrapResult`, so we can get the result of bootstrapping from the list. We can get the same number of results as the number of datasets, so we specify an index when we access the results. We can get the ranking of the causal directions extracted by `get_causal_direction_counts()`."
   ]
  },
  {
   "cell_type": "code",
   "execution_count": null,
   "metadata": {
    "ExecuteTime": {
     "end_time": "2019-12-12T06:44:26.174050Z",
     "start_time": "2019-12-12T06:44:26.156834Z"
    }
   },
   "outputs": [],
   "source": [
    "cdc = results[0].get_causal_direction_counts(n_directions=8, min_causal_effect=0.01)\n",
    "print_causal_directions(cdc, 100)"
   ]
  },
  {
   "cell_type": "code",
   "execution_count": null,
   "metadata": {
    "ExecuteTime": {
     "end_time": "2019-12-12T06:44:26.194991Z",
     "start_time": "2019-12-12T06:44:26.181029Z"
    }
   },
   "outputs": [],
   "source": [
    "cdc = results[1].get_causal_direction_counts(n_directions=8, min_causal_effect=0.01)\n",
    "print_causal_directions(cdc, 100)"
   ]
  },
  {
   "cell_type": "markdown",
   "metadata": {},
   "source": [
    "## Directed Acyclic Graphs\n",
    "Also, using the `get_directed_acyclic_graph_counts()` method, we can get the ranking of the DAGs extracted. In the following sample code, `n_dags` option is limited to the dags of the top 3 rankings, and `min_causal_effect` option is limited to causal directions with a coefficient of 0.01 or more."
   ]
  },
  {
   "cell_type": "code",
   "execution_count": null,
   "metadata": {
    "ExecuteTime": {
     "end_time": "2019-12-12T06:44:26.218929Z",
     "start_time": "2019-12-12T06:44:26.199979Z"
    }
   },
   "outputs": [],
   "source": [
    "dagc = results[0].get_directed_acyclic_graph_counts(n_dags=3, min_causal_effect=0.01)\n",
    "print_dagc(dagc, 100)"
   ]
  },
  {
   "cell_type": "code",
   "execution_count": null,
   "metadata": {
    "ExecuteTime": {
     "end_time": "2019-12-12T06:44:26.239872Z",
     "start_time": "2019-12-12T06:44:26.220922Z"
    }
   },
   "outputs": [],
   "source": [
    "dagc = results[1].get_directed_acyclic_graph_counts(n_dags=3, min_causal_effect=0.01)\n",
    "print_dagc(dagc, 100)"
   ]
  },
  {
   "cell_type": "markdown",
   "metadata": {},
   "source": [
    "## Probability\n",
    "Using the get_probabilities() method, we can get the probability of bootstrapping."
   ]
  },
  {
   "cell_type": "code",
   "execution_count": null,
   "metadata": {},
   "outputs": [],
   "source": [
    "prob = results[0].get_probabilities(min_causal_effect=0.01)\n",
    "print(prob)"
   ]
  },
  {
   "cell_type": "markdown",
   "metadata": {},
   "source": [
    "## Causal Effects\n",
    "Using the `get_causal_effects()` method, we can get the list of causal effect. The causal effects we can get are dictionary type variable.\n",
    "We can display the list nicely by assigning it to pandas.DataFrame. Also, we have replaced the variable index with a label below."
   ]
  },
  {
   "cell_type": "code",
   "execution_count": null,
   "metadata": {},
   "outputs": [],
   "source": [
    "causal_effects = results[0].get_causal_effects(min_causal_effect=0.01)\n",
    "df = pd.DataFrame(causal_effects)\n",
    "\n",
    "labels = [f'x{i}' for i in range(X1.shape[1])]\n",
    "df['from'] = df['from'].apply(lambda x : labels[x])\n",
    "df['to'] = df['to'].apply(lambda x : labels[x])\n",
    "df"
   ]
  },
  {
   "cell_type": "markdown",
   "metadata": {},
   "source": [
    "We can easily perform sorting operations with pandas.DataFrame."
   ]
  },
  {
   "cell_type": "code",
   "execution_count": null,
   "metadata": {},
   "outputs": [],
   "source": [
    "df.sort_values('effect', ascending=False).head()"
   ]
  },
  {
   "cell_type": "markdown",
   "metadata": {},
   "source": [
    "And with pandas.DataFrame, we can easily filter by keywords. The following code extracts the causal direction towards x1."
   ]
  },
  {
   "cell_type": "code",
   "execution_count": null,
   "metadata": {},
   "outputs": [],
   "source": [
    "df[df['to']=='x1'].head()"
   ]
  },
  {
   "cell_type": "markdown",
   "metadata": {},
   "source": [
    "Because it holds the raw data of the causal effect (the original data for calculating the median), it is possible to draw a histogram of the values of the causal effect, as shown below."
   ]
  },
  {
   "cell_type": "code",
   "execution_count": null,
   "metadata": {},
   "outputs": [],
   "source": [
    "import matplotlib.pyplot as plt\n",
    "import seaborn as sns\n",
    "sns.set()\n",
    "%matplotlib inline\n",
    "\n",
    "from_index = 3\n",
    "to_index = 0\n",
    "plt.hist(results[0].total_effects_[:, to_index, from_index])"
   ]
  },
  {
   "cell_type": "code",
   "execution_count": null,
   "metadata": {},
   "outputs": [],
   "source": []
  }
 ],
 "metadata": {
  "kernelspec": {
   "display_name": "Python 3",
   "language": "python",
   "name": "python3"
  },
  "language_info": {
   "codemirror_mode": {
    "name": "ipython",
    "version": 3
   },
   "file_extension": ".py",
   "mimetype": "text/x-python",
   "name": "python",
   "nbconvert_exporter": "python",
   "pygments_lexer": "ipython3",
   "version": "3.7.3"
  },
  "toc": {
   "base_numbering": 1,
   "nav_menu": {},
   "number_sections": true,
   "sideBar": true,
   "skip_h1_title": false,
   "title_cell": "Table of Contents",
   "title_sidebar": "Contents",
   "toc_cell": false,
   "toc_position": {},
   "toc_section_display": true,
   "toc_window_display": false
  }
 },
 "nbformat": 4,
 "nbformat_minor": 2
}
